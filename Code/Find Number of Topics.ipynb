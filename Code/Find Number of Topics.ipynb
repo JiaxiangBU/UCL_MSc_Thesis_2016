{
 "cells": [
  {
   "cell_type": "code",
   "execution_count": 2,
   "metadata": {
    "collapsed": false
   },
   "outputs": [],
   "source": [
    "from urllib2 import urlopen\n",
    "from json import load \n",
    "\n",
    "url = 'http://api.npr.org/query?apiKey=' \n",
    "key = 'API_KEY'\n",
    "url = url + key\n",
    "url += '&numResults=50&format=json&id=1001'\n",
    "url += '&requiredAssets=text'\n",
    "\n",
    "response = urlopen(url)\n",
    "json_obj = load(response)\n",
    "\n"
   ]
  },
  {
   "cell_type": "code",
   "execution_count": null,
   "metadata": {
    "collapsed": false
   },
   "outputs": [],
   "source": []
  },
  {
   "cell_type": "code",
   "execution_count": null,
   "metadata": {
    "collapsed": true
   },
   "outputs": [],
   "source": [
    "with open('nprarticles.txt','w') as f:\n",
    "    for story in json_obj['list']['story']:\n",
    "        article = []\n",
    "        for paragraph in story['textWithHtml']['paragraph']:\n",
    "            article.append(paragraph['$text'])\n",
    "        art = ' '.join(article).encode('utf-8')\n",
    "        f.write(art+'\\n')"
   ]
  },
  {
   "cell_type": "code",
   "execution_count": null,
   "metadata": {
    "collapsed": true
   },
   "outputs": [],
   "source": []
  },
  {
   "cell_type": "code",
   "execution_count": null,
   "metadata": {
    "collapsed": true
   },
   "outputs": [],
   "source": []
  },
  {
   "cell_type": "code",
   "execution_count": null,
   "metadata": {
    "collapsed": true
   },
   "outputs": [],
   "source": []
  }
 ],
 "metadata": {
  "kernelspec": {
   "display_name": "Python 2",
   "language": "python",
   "name": "python2"
  },
  "language_info": {
   "codemirror_mode": {
    "name": "ipython",
    "version": 2
   },
   "file_extension": ".py",
   "mimetype": "text/x-python",
   "name": "python",
   "nbconvert_exporter": "python",
   "pygments_lexer": "ipython2",
   "version": "2.7.11"
  }
 },
 "nbformat": 4,
 "nbformat_minor": 0
}
