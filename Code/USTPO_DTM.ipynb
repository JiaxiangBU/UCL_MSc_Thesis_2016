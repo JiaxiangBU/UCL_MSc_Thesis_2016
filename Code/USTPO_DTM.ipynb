{
 "cells": [
  {
   "cell_type": "code",
   "execution_count": 26,
   "metadata": {
    "collapsed": false
   },
   "outputs": [
    {
     "name": "stderr",
     "output_type": "stream",
     "text": [
      ":0: FutureWarning: IPython widgets are experimental and may change in the future.\n"
     ]
    }
   ],
   "source": [
    "import logging\n",
    "import os\n",
    "from gensim import corpora, utils\n",
    "from gensim.models.wrappers.dtmmodel import DtmModel\n",
    "import numpy as np\n",
    "import time\n",
    "import pylab as plt\n",
    "import seaborn as sb\n",
    "\n",
    "%matplotlib inline"
   ]
  },
  {
   "cell_type": "code",
   "execution_count": 2,
   "metadata": {
    "collapsed": false
   },
   "outputs": [
    {
     "name": "stderr",
     "output_type": "stream",
     "text": [
      "DEBUG:root:test\n"
     ]
    }
   ],
   "source": [
    "logger = logging.getLogger()\n",
    "logger.setLevel(logging.DEBUG)\n",
    "logging.debug(\"test\")"
   ]
  },
  {
   "cell_type": "markdown",
   "metadata": {},
   "source": [
    "### Get SQLITE Data"
   ]
  },
  {
   "cell_type": "code",
   "execution_count": 76,
   "metadata": {
    "collapsed": false
   },
   "outputs": [],
   "source": [
    "import pandas as pd\n",
    "import sqlite3\n",
    "\n",
    "db_list = [\"pg010904\",\"pg010911\",\"pg010918\",\"pg010925\"]\n",
    "documents = []\n",
    "for db in db_list:\n",
    "    # write to sqlite db\n",
    "    con = sqlite3.connect(\"../Data/Patent_Grant_Full_Text_Data_SGML_Version_2.4_JAN_2001_DEC_2001/{}.sqlite\".format(db))\n",
    "    new = pd.read_sql(\"SELECT * FROM patents\", con) \n",
    "    sample_idx = np.random.choice(len(new), 100, replace=False) # uniform random sample, 100 out of all patents\n",
    "    documents += [new[\"abstract\"].values[i].split() for i in sample_idx]\n"
   ]
  },
  {
   "cell_type": "code",
   "execution_count": 4,
   "metadata": {
    "collapsed": false
   },
   "outputs": [],
   "source": [
    "#data = new[[\"pat_date\",\"abstract\"]]"
   ]
  },
  {
   "cell_type": "code",
   "execution_count": 92,
   "metadata": {
    "collapsed": false
   },
   "outputs": [],
   "source": [
    "#documents = [data[\"abstract\"].values[i].split() for i in range(len(data[\"abstract\"]))]"
   ]
  },
  {
   "cell_type": "code",
   "execution_count": 83,
   "metadata": {
    "collapsed": false
   },
   "outputs": [
    {
     "data": {
      "text/plain": [
       "[100, 100, 100, 100]"
      ]
     },
     "execution_count": 83,
     "metadata": {},
     "output_type": "execute_result"
    }
   ],
   "source": [
    "time_seq = [100]*4\n",
    "time_seq"
   ]
  },
  {
   "cell_type": "code",
   "execution_count": 78,
   "metadata": {
    "collapsed": false
   },
   "outputs": [],
   "source": [
    "class DTMcorpus(corpora.textcorpus.TextCorpus):\n",
    "\n",
    "    def get_texts(self):\n",
    "        return self.input\n",
    "\n",
    "    def __len__(self):\n",
    "        return len(self.input)"
   ]
  },
  {
   "cell_type": "code",
   "execution_count": 79,
   "metadata": {
    "collapsed": false
   },
   "outputs": [
    {
     "name": "stderr",
     "output_type": "stream",
     "text": [
      "INFO:gensim.corpora.dictionary:adding document #0 to Dictionary(0 unique tokens: [])\n",
      "INFO:gensim.corpora.dictionary:built Dictionary(4629 unique tokens: [u'stock', u'limited', u'oxygenation', u'sourceline', u'helical']...) from 400 documents (total 28849 corpus positions)\n"
     ]
    }
   ],
   "source": [
    "corpus = DTMcorpus(documents)"
   ]
  },
  {
   "cell_type": "code",
   "execution_count": 80,
   "metadata": {
    "collapsed": true
   },
   "outputs": [],
   "source": [
    "dtm_home = os.environ.get('DTM_HOME', \"dtm-master\")\n",
    "dtm_path = os.path.join(dtm_home, 'bin', 'dtm-darwin64') if dtm_home else None"
   ]
  },
  {
   "cell_type": "code",
   "execution_count": 93,
   "metadata": {
    "collapsed": false
   },
   "outputs": [
    {
     "name": "stderr",
     "output_type": "stream",
     "text": [
      "INFO:gensim.models.wrappers.dtmmodel:serializing temporary corpus to /var/folders/ym/v3by8lmd2bx3jpygmrlfq00m0000gn/T/effeb_train-mult.dat\n",
      "INFO:gensim.corpora.bleicorpus:no word id mapping provided; initializing from corpus\n",
      "INFO:gensim.corpora.bleicorpus:storing corpus in Blei's LDA-C format into /var/folders/ym/v3by8lmd2bx3jpygmrlfq00m0000gn/T/effeb_train-mult.dat\n",
      "INFO:gensim.corpora.bleicorpus:saving vocabulary of 4629 words to /var/folders/ym/v3by8lmd2bx3jpygmrlfq00m0000gn/T/effeb_train-mult.dat.vocab\n",
      "INFO:gensim.models.wrappers.dtmmodel:training DTM with args --ntopics=20 --model=dtm  --mode=fit --initialize_lda=true --corpus_prefix=/var/folders/ym/v3by8lmd2bx3jpygmrlfq00m0000gn/T/effeb_train --outname=/var/folders/ym/v3by8lmd2bx3jpygmrlfq00m0000gn/T/effeb_train_out --alpha=0.01 --lda_max_em_iter=10 --lda_sequence_min_iter=6  --lda_sequence_max_iter=20 --top_chain_var=0.005 --rng_seed=0 \n",
      "INFO:gensim.models.wrappers.dtmmodel:Running command ['dtm-master/bin/dtm-darwin64', '--ntopics=20', '--model=dtm', '--mode=fit', '--initialize_lda=true', '--corpus_prefix=/var/folders/ym/v3by8lmd2bx3jpygmrlfq00m0000gn/T/effeb_train', '--outname=/var/folders/ym/v3by8lmd2bx3jpygmrlfq00m0000gn/T/effeb_train_out', '--alpha=0.01', '--lda_max_em_iter=10', '--lda_sequence_min_iter=6', '--lda_sequence_max_iter=20', '--top_chain_var=0.005', '--rng_seed=0']\n"
     ]
    },
    {
     "name": "stdout",
     "output_type": "stream",
     "text": [
      "took: 57.0287020206 seconds.\n"
     ]
    }
   ],
   "source": [
    "t0 = time.time()\n",
    "model = DtmModel(dtm_path,corpus,time_seq,num_topics=20,id2word=corpus.dictionary,initialize_lda=True)\n",
    "delta = time.time() - t0\n",
    "print \"took: {} seconds.\".format(delta)"
   ]
  },
  {
   "cell_type": "code",
   "execution_count": 94,
   "metadata": {
    "collapsed": false
   },
   "outputs": [
    {
     "data": {
      "text/plain": [
       "[u'0.022*source + 0.019*process + 0.018*metal + 0.015*form + 0.013*catalyst + 0.013*method + 0.012*surface',\n",
       " u'0.026*water + 0.021*level + 0.019*bit + 0.016*high + 0.016*channel + 0.016*lock + 0.016*piece',\n",
       " u'0.016*say + 0.015*least + 0.015*mean + 0.012*low + 0.011*sensor + 0.010*lower + 0.010*prepare',\n",
       " u'0.040*drive + 0.035*sheet + 0.021*member + 0.021*position + 0.020*unit + 0.020*coil + 0.018*device',\n",
       " u'0.019*plurality + 0.017*provide + 0.015*one + 0.015*base + 0.013*vehicle + 0.010*disclose + 0.010*press',\n",
       " u'0.049*member + 0.040*first + 0.030*second + 0.029*form + 0.026*plate + 0.021*support + 0.020*metal',\n",
       " u'0.037*platform + 0.033*target + 0.032*information + 0.022*control + 0.021*include + 0.021*address + 0.019*provide',\n",
       " u'0.031*include + 0.030*end + 0.026*body + 0.024*side + 0.023*portion + 0.022*cover + 0.021*wall',\n",
       " u'0.028*user + 0.020*communication + 0.020*unit + 0.015*system + 0.015*network + 0.014*point + 0.014*request',\n",
       " u'0.024*signal + 0.021*switch + 0.020*circuit + 0.019*test + 0.019*phase + 0.019*control + 0.017*system',\n",
       " u'0.029*valve + 0.018*system + 0.018*use + 0.013*material + 0.013*energy + 0.013*pressure + 0.011*gas',\n",
       " u'0.057*power + 0.054*signal + 0.044*circuit + 0.037*control + 0.030*output + 0.029*first + 0.026*input',\n",
       " u'0.052*data + 0.035*signal + 0.014*determine + 0.013*memory + 0.013*transmit + 0.013*optical + 0.013*provide',\n",
       " u'0.026*layer + 0.026*region + 0.020*transfer + 0.018*center + 0.018*surface + 0.016*wherein + 0.015*chamber',\n",
       " u'0.041*layer + 0.018*first + 0.016*element + 0.015*outer + 0.015*within + 0.013*memory + 0.013*wireless',\n",
       " u'0.055*surface + 0.039*mount + 0.024*circuit + 0.023*ball + 0.021*component + 0.019*tool + 0.017*portion',\n",
       " u'0.088*image + 0.051*data + 0.021*terminal + 0.020*small + 0.018*method + 0.018*filter + 0.018*device',\n",
       " u'0.040*substrate + 0.036*layer + 0.031*semiconductor + 0.030*form + 0.019*contact + 0.018*film + 0.018*element',\n",
       " u'0.037*invention + 0.029*method + 0.024*present + 0.023*use + 0.023*compound + 0.020*composition + 0.014*weight',\n",
       " u'0.064*first + 0.057*second + 0.040*housing + 0.033*portion + 0.021*thread + 0.021*one + 0.016*device',\n",
       " u'0.021*source + 0.019*process + 0.019*metal + 0.014*form + 0.014*catalyst + 0.013*method + 0.012*surface',\n",
       " u'0.026*water + 0.020*level + 0.019*bit + 0.016*high + 0.016*lock + 0.016*channel + 0.016*filter',\n",
       " u'0.016*say + 0.015*least + 0.015*mean + 0.012*low + 0.011*sensor + 0.011*lower + 0.010*prepare',\n",
       " u'0.039*drive + 0.033*sheet + 0.021*unit + 0.021*coil + 0.021*position + 0.020*member + 0.018*device',\n",
       " u'0.019*plurality + 0.017*provide + 0.015*one + 0.015*base + 0.012*vehicle + 0.010*disclose + 0.010*press',\n",
       " u'0.053*member + 0.038*first + 0.030*second + 0.029*form + 0.026*plate + 0.021*support + 0.020*metal',\n",
       " u'0.035*platform + 0.033*information + 0.032*target + 0.022*control + 0.021*include + 0.021*address + 0.019*provide',\n",
       " u'0.031*include + 0.031*end + 0.025*body + 0.024*side + 0.023*portion + 0.022*cover + 0.020*wall',\n",
       " u'0.028*user + 0.020*unit + 0.020*communication + 0.015*system + 0.015*network + 0.015*point + 0.014*request',\n",
       " u'0.023*signal + 0.021*switch + 0.019*test + 0.019*circuit + 0.019*phase + 0.018*control + 0.017*system',\n",
       " u'0.030*valve + 0.018*use + 0.018*system + 0.014*energy + 0.013*material + 0.013*pressure + 0.012*gas',\n",
       " u'0.056*power + 0.053*signal + 0.044*circuit + 0.037*control + 0.030*output + 0.029*first + 0.025*input',\n",
       " u'0.053*data + 0.034*signal + 0.014*determine + 0.013*optical + 0.013*transmit + 0.013*memory + 0.013*provide',\n",
       " u'0.027*layer + 0.026*region + 0.020*transfer + 0.018*center + 0.018*surface + 0.016*wherein + 0.014*chamber',\n",
       " u'0.040*layer + 0.018*first + 0.016*element + 0.015*within + 0.015*outer + 0.013*wireless + 0.012*memory',\n",
       " u'0.054*surface + 0.039*mount + 0.024*circuit + 0.023*ball + 0.022*component + 0.019*tool + 0.018*portion',\n",
       " u'0.089*image + 0.050*data + 0.021*terminal + 0.020*small + 0.018*filter + 0.018*device + 0.018*method',\n",
       " u'0.040*substrate + 0.035*layer + 0.032*semiconductor + 0.030*form + 0.019*contact + 0.018*film + 0.017*element',\n",
       " u'0.036*invention + 0.029*method + 0.024*use + 0.023*present + 0.023*compound + 0.020*composition + 0.014*weight',\n",
       " u'0.064*first + 0.058*second + 0.042*housing + 0.034*portion + 0.021*thread + 0.021*one + 0.016*device',\n",
       " u'0.020*source + 0.020*metal + 0.020*process + 0.014*form + 0.014*catalyst + 0.013*method + 0.012*surface',\n",
       " u'0.027*water + 0.020*level + 0.018*bit + 0.017*high + 0.017*filter + 0.016*lock + 0.016*channel',\n",
       " u'0.016*say + 0.015*least + 0.014*mean + 0.012*low + 0.011*sensor + 0.011*lower + 0.010*prepare',\n",
       " u'0.037*drive + 0.031*sheet + 0.022*coil + 0.022*unit + 0.021*position + 0.020*member + 0.018*device',\n",
       " u'0.019*plurality + 0.017*provide + 0.016*one + 0.015*base + 0.012*vehicle + 0.010*disclose + 0.010*press',\n",
       " u'0.053*member + 0.038*first + 0.029*form + 0.029*second + 0.027*plate + 0.021*support + 0.021*metal',\n",
       " u'0.035*platform + 0.033*information + 0.031*target + 0.022*control + 0.022*include + 0.021*address + 0.019*provide',\n",
       " u'0.032*end + 0.031*include + 0.025*body + 0.025*side + 0.023*portion + 0.021*cover + 0.020*wall',\n",
       " u'0.028*user + 0.020*unit + 0.019*communication + 0.015*system + 0.015*point + 0.015*network + 0.014*request',\n",
       " u'0.023*signal + 0.021*switch + 0.020*phase + 0.020*test + 0.019*circuit + 0.018*control + 0.017*system',\n",
       " u'0.032*valve + 0.018*use + 0.017*system + 0.014*energy + 0.013*pressure + 0.013*material + 0.012*gas',\n",
       " u'0.058*power + 0.050*signal + 0.044*circuit + 0.037*control + 0.031*output + 0.030*first + 0.026*input',\n",
       " u'0.056*data + 0.034*signal + 0.014*determine + 0.013*transmit + 0.013*optical + 0.013*receive + 0.012*memory',\n",
       " u'0.028*layer + 0.025*region + 0.020*transfer + 0.018*center + 0.018*surface + 0.016*wherein + 0.014*chamber',\n",
       " u'0.039*layer + 0.018*first + 0.016*element + 0.015*within + 0.015*outer + 0.012*wireless + 0.012*memory',\n",
       " u'0.055*surface + 0.039*mount + 0.024*circuit + 0.023*ball + 0.021*component + 0.019*tool + 0.018*portion',\n",
       " u'0.087*image + 0.050*data + 0.022*terminal + 0.021*small + 0.019*filter + 0.018*device + 0.018*method',\n",
       " u'0.038*substrate + 0.035*layer + 0.032*semiconductor + 0.030*form + 0.019*film + 0.018*contact + 0.018*step',\n",
       " u'0.036*invention + 0.029*method + 0.023*compound + 0.023*use + 0.023*present + 0.020*composition + 0.015*weight',\n",
       " u'0.063*first + 0.057*second + 0.044*housing + 0.032*portion + 0.022*thread + 0.021*one + 0.016*device',\n",
       " u'0.020*metal + 0.020*source + 0.019*process + 0.014*form + 0.014*catalyst + 0.013*method + 0.012*surface',\n",
       " u'0.026*water + 0.020*level + 0.018*bit + 0.017*filter + 0.017*high + 0.016*lock + 0.016*current',\n",
       " u'0.016*say + 0.015*least + 0.014*mean + 0.013*low + 0.011*lower + 0.011*sensor + 0.010*upper',\n",
       " u'0.036*drive + 0.030*sheet + 0.024*coil + 0.022*unit + 0.020*position + 0.019*member + 0.018*device',\n",
       " u'0.019*plurality + 0.017*provide + 0.015*one + 0.015*base + 0.012*vehicle + 0.010*disclose + 0.010*press',\n",
       " u'0.051*member + 0.037*first + 0.030*plate + 0.029*form + 0.028*second + 0.021*support + 0.021*metal',\n",
       " u'0.035*platform + 0.033*information + 0.030*target + 0.022*control + 0.022*include + 0.021*address + 0.019*provide',\n",
       " u'0.033*end + 0.031*include + 0.025*side + 0.024*body + 0.022*portion + 0.020*cover + 0.020*assembly',\n",
       " u'0.029*user + 0.020*unit + 0.019*communication + 0.015*system + 0.015*point + 0.015*network + 0.014*request',\n",
       " u'0.023*signal + 0.021*switch + 0.021*phase + 0.019*test + 0.019*circuit + 0.018*control + 0.017*system',\n",
       " u'0.033*valve + 0.018*system + 0.017*use + 0.015*energy + 0.013*pressure + 0.013*gas + 0.013*material',\n",
       " u'0.058*power + 0.049*signal + 0.046*circuit + 0.036*control + 0.031*output + 0.029*first + 0.027*input',\n",
       " u'0.059*data + 0.034*signal + 0.013*transmit + 0.013*determine + 0.013*optical + 0.013*receive + 0.012*stream',\n",
       " u'0.028*layer + 0.024*region + 0.021*transfer + 0.019*center + 0.017*surface + 0.016*wherein + 0.014*first',\n",
       " u'0.040*layer + 0.018*first + 0.016*element + 0.015*within + 0.015*outer + 0.012*wireless + 0.012*memory',\n",
       " u'0.056*surface + 0.039*mount + 0.024*circuit + 0.023*ball + 0.021*component + 0.020*tool + 0.018*portion',\n",
       " u'0.083*image + 0.049*data + 0.022*terminal + 0.020*filter + 0.020*small + 0.019*device + 0.018*method',\n",
       " u'0.037*substrate + 0.035*layer + 0.031*semiconductor + 0.030*form + 0.019*film + 0.018*contact + 0.018*step',\n",
       " u'0.036*invention + 0.029*method + 0.024*compound + 0.023*present + 0.023*use + 0.020*composition + 0.015*weight',\n",
       " u'0.064*first + 0.057*second + 0.042*housing + 0.032*portion + 0.023*thread + 0.021*one + 0.017*device']"
      ]
     },
     "execution_count": 94,
     "metadata": {},
     "output_type": "execute_result"
    }
   ],
   "source": [
    "topics = model.show_topics(topics=20,times=4, topn=7)\n",
    "topics"
   ]
  },
  {
   "cell_type": "markdown",
   "metadata": {},
   "source": [
    "## DTM TIME SCALING"
   ]
  },
  {
   "cell_type": "markdown",
   "metadata": {},
   "source": [
    "### Run Time vs. Number of Topics"
   ]
  },
  {
   "cell_type": "code",
   "execution_count": 15,
   "metadata": {
    "collapsed": false
   },
   "outputs": [
    {
     "name": "stderr",
     "output_type": "stream",
     "text": [
      "INFO:gensim.corpora.dictionary:adding document #0 to Dictionary(0 unique tokens: [])\n",
      "INFO:gensim.corpora.dictionary:built Dictionary(1746 unique tokens: [u'helical', u'magnetic', u'yellow', u'circuitry', u'whose']...) from 100 documents (total 7140 corpus positions)\n",
      "INFO:gensim.models.wrappers.dtmmodel:serializing temporary corpus to /var/folders/ym/v3by8lmd2bx3jpygmrlfq00m0000gn/T/4913d_train-mult.dat\n",
      "INFO:gensim.corpora.bleicorpus:no word id mapping provided; initializing from corpus\n",
      "INFO:gensim.corpora.bleicorpus:storing corpus in Blei's LDA-C format into /var/folders/ym/v3by8lmd2bx3jpygmrlfq00m0000gn/T/4913d_train-mult.dat\n",
      "INFO:gensim.corpora.bleicorpus:saving vocabulary of 1746 words to /var/folders/ym/v3by8lmd2bx3jpygmrlfq00m0000gn/T/4913d_train-mult.dat.vocab\n",
      "INFO:gensim.models.wrappers.dtmmodel:training DTM with args --ntopics=2 --model=dtm  --mode=fit --initialize_lda=true --corpus_prefix=/var/folders/ym/v3by8lmd2bx3jpygmrlfq00m0000gn/T/4913d_train --outname=/var/folders/ym/v3by8lmd2bx3jpygmrlfq00m0000gn/T/4913d_train_out --alpha=0.01 --lda_max_em_iter=10 --lda_sequence_min_iter=6  --lda_sequence_max_iter=20 --top_chain_var=0.005 --rng_seed=0 \n",
      "INFO:gensim.models.wrappers.dtmmodel:Running command ['dtm-master/bin/dtm-darwin64', '--ntopics=2', '--model=dtm', '--mode=fit', '--initialize_lda=true', '--corpus_prefix=/var/folders/ym/v3by8lmd2bx3jpygmrlfq00m0000gn/T/4913d_train', '--outname=/var/folders/ym/v3by8lmd2bx3jpygmrlfq00m0000gn/T/4913d_train_out', '--alpha=0.01', '--lda_max_em_iter=10', '--lda_sequence_min_iter=6', '--lda_sequence_max_iter=20', '--top_chain_var=0.005', '--rng_seed=0']\n",
      "INFO:gensim.models.wrappers.dtmmodel:serializing temporary corpus to /var/folders/ym/v3by8lmd2bx3jpygmrlfq00m0000gn/T/40e58d_train-mult.dat\n",
      "INFO:gensim.corpora.bleicorpus:no word id mapping provided; initializing from corpus\n",
      "INFO:gensim.corpora.bleicorpus:storing corpus in Blei's LDA-C format into /var/folders/ym/v3by8lmd2bx3jpygmrlfq00m0000gn/T/40e58d_train-mult.dat\n",
      "INFO:gensim.corpora.bleicorpus:saving vocabulary of 1746 words to /var/folders/ym/v3by8lmd2bx3jpygmrlfq00m0000gn/T/40e58d_train-mult.dat.vocab\n",
      "INFO:gensim.models.wrappers.dtmmodel:training DTM with args --ntopics=3 --model=dtm  --mode=fit --initialize_lda=true --corpus_prefix=/var/folders/ym/v3by8lmd2bx3jpygmrlfq00m0000gn/T/40e58d_train --outname=/var/folders/ym/v3by8lmd2bx3jpygmrlfq00m0000gn/T/40e58d_train_out --alpha=0.01 --lda_max_em_iter=10 --lda_sequence_min_iter=6  --lda_sequence_max_iter=20 --top_chain_var=0.005 --rng_seed=0 \n",
      "INFO:gensim.models.wrappers.dtmmodel:Running command ['dtm-master/bin/dtm-darwin64', '--ntopics=3', '--model=dtm', '--mode=fit', '--initialize_lda=true', '--corpus_prefix=/var/folders/ym/v3by8lmd2bx3jpygmrlfq00m0000gn/T/40e58d_train', '--outname=/var/folders/ym/v3by8lmd2bx3jpygmrlfq00m0000gn/T/40e58d_train_out', '--alpha=0.01', '--lda_max_em_iter=10', '--lda_sequence_min_iter=6', '--lda_sequence_max_iter=20', '--top_chain_var=0.005', '--rng_seed=0']\n"
     ]
    },
    {
     "name": "stdout",
     "output_type": "stream",
     "text": [
      "2 topics took: 4.21448588371 seconds.\n",
      "3 topics took: 4.89845490456 seconds."
     ]
    },
    {
     "name": "stderr",
     "output_type": "stream",
     "text": [
      "INFO:gensim.models.wrappers.dtmmodel:serializing temporary corpus to /var/folders/ym/v3by8lmd2bx3jpygmrlfq00m0000gn/T/de2c81_train-mult.dat\n",
      "INFO:gensim.corpora.bleicorpus:no word id mapping provided; initializing from corpus\n",
      "INFO:gensim.corpora.bleicorpus:storing corpus in Blei's LDA-C format into /var/folders/ym/v3by8lmd2bx3jpygmrlfq00m0000gn/T/de2c81_train-mult.dat\n",
      "INFO:gensim.corpora.bleicorpus:saving vocabulary of 1746 words to /var/folders/ym/v3by8lmd2bx3jpygmrlfq00m0000gn/T/de2c81_train-mult.dat.vocab\n",
      "INFO:gensim.models.wrappers.dtmmodel:training DTM with args --ntopics=4 --model=dtm  --mode=fit --initialize_lda=true --corpus_prefix=/var/folders/ym/v3by8lmd2bx3jpygmrlfq00m0000gn/T/de2c81_train --outname=/var/folders/ym/v3by8lmd2bx3jpygmrlfq00m0000gn/T/de2c81_train_out --alpha=0.01 --lda_max_em_iter=10 --lda_sequence_min_iter=6  --lda_sequence_max_iter=20 --top_chain_var=0.005 --rng_seed=0 \n",
      "INFO:gensim.models.wrappers.dtmmodel:Running command ['dtm-master/bin/dtm-darwin64', '--ntopics=4', '--model=dtm', '--mode=fit', '--initialize_lda=true', '--corpus_prefix=/var/folders/ym/v3by8lmd2bx3jpygmrlfq00m0000gn/T/de2c81_train', '--outname=/var/folders/ym/v3by8lmd2bx3jpygmrlfq00m0000gn/T/de2c81_train_out', '--alpha=0.01', '--lda_max_em_iter=10', '--lda_sequence_min_iter=6', '--lda_sequence_max_iter=20', '--top_chain_var=0.005', '--rng_seed=0']\n"
     ]
    },
    {
     "name": "stdout",
     "output_type": "stream",
     "text": [
      "\n",
      "4 topics took: 5.5292570591 seconds."
     ]
    },
    {
     "name": "stderr",
     "output_type": "stream",
     "text": [
      "INFO:gensim.models.wrappers.dtmmodel:serializing temporary corpus to /var/folders/ym/v3by8lmd2bx3jpygmrlfq00m0000gn/T/b34a3f_train-mult.dat\n",
      "INFO:gensim.corpora.bleicorpus:no word id mapping provided; initializing from corpus\n",
      "INFO:gensim.corpora.bleicorpus:storing corpus in Blei's LDA-C format into /var/folders/ym/v3by8lmd2bx3jpygmrlfq00m0000gn/T/b34a3f_train-mult.dat\n",
      "INFO:gensim.corpora.bleicorpus:saving vocabulary of 1746 words to /var/folders/ym/v3by8lmd2bx3jpygmrlfq00m0000gn/T/b34a3f_train-mult.dat.vocab\n",
      "INFO:gensim.models.wrappers.dtmmodel:training DTM with args --ntopics=5 --model=dtm  --mode=fit --initialize_lda=true --corpus_prefix=/var/folders/ym/v3by8lmd2bx3jpygmrlfq00m0000gn/T/b34a3f_train --outname=/var/folders/ym/v3by8lmd2bx3jpygmrlfq00m0000gn/T/b34a3f_train_out --alpha=0.01 --lda_max_em_iter=10 --lda_sequence_min_iter=6  --lda_sequence_max_iter=20 --top_chain_var=0.005 --rng_seed=0 \n",
      "INFO:gensim.models.wrappers.dtmmodel:Running command ['dtm-master/bin/dtm-darwin64', '--ntopics=5', '--model=dtm', '--mode=fit', '--initialize_lda=true', '--corpus_prefix=/var/folders/ym/v3by8lmd2bx3jpygmrlfq00m0000gn/T/b34a3f_train', '--outname=/var/folders/ym/v3by8lmd2bx3jpygmrlfq00m0000gn/T/b34a3f_train_out', '--alpha=0.01', '--lda_max_em_iter=10', '--lda_sequence_min_iter=6', '--lda_sequence_max_iter=20', '--top_chain_var=0.005', '--rng_seed=0']\n"
     ]
    },
    {
     "name": "stdout",
     "output_type": "stream",
     "text": [
      "\n",
      "5 topics took: 6.21239590645 seconds."
     ]
    },
    {
     "name": "stderr",
     "output_type": "stream",
     "text": [
      "INFO:gensim.models.wrappers.dtmmodel:serializing temporary corpus to /var/folders/ym/v3by8lmd2bx3jpygmrlfq00m0000gn/T/6c6c76_train-mult.dat\n",
      "INFO:gensim.corpora.bleicorpus:no word id mapping provided; initializing from corpus\n",
      "INFO:gensim.corpora.bleicorpus:storing corpus in Blei's LDA-C format into /var/folders/ym/v3by8lmd2bx3jpygmrlfq00m0000gn/T/6c6c76_train-mult.dat\n",
      "INFO:gensim.corpora.bleicorpus:saving vocabulary of 1746 words to /var/folders/ym/v3by8lmd2bx3jpygmrlfq00m0000gn/T/6c6c76_train-mult.dat.vocab\n",
      "INFO:gensim.models.wrappers.dtmmodel:training DTM with args --ntopics=6 --model=dtm  --mode=fit --initialize_lda=true --corpus_prefix=/var/folders/ym/v3by8lmd2bx3jpygmrlfq00m0000gn/T/6c6c76_train --outname=/var/folders/ym/v3by8lmd2bx3jpygmrlfq00m0000gn/T/6c6c76_train_out --alpha=0.01 --lda_max_em_iter=10 --lda_sequence_min_iter=6  --lda_sequence_max_iter=20 --top_chain_var=0.005 --rng_seed=0 \n",
      "INFO:gensim.models.wrappers.dtmmodel:Running command ['dtm-master/bin/dtm-darwin64', '--ntopics=6', '--model=dtm', '--mode=fit', '--initialize_lda=true', '--corpus_prefix=/var/folders/ym/v3by8lmd2bx3jpygmrlfq00m0000gn/T/6c6c76_train', '--outname=/var/folders/ym/v3by8lmd2bx3jpygmrlfq00m0000gn/T/6c6c76_train_out', '--alpha=0.01', '--lda_max_em_iter=10', '--lda_sequence_min_iter=6', '--lda_sequence_max_iter=20', '--top_chain_var=0.005', '--rng_seed=0']\n"
     ]
    },
    {
     "name": "stdout",
     "output_type": "stream",
     "text": [
      "\n",
      "6 topics took: 7.32249212265 seconds."
     ]
    },
    {
     "name": "stderr",
     "output_type": "stream",
     "text": [
      "INFO:gensim.models.wrappers.dtmmodel:serializing temporary corpus to /var/folders/ym/v3by8lmd2bx3jpygmrlfq00m0000gn/T/fd50ad_train-mult.dat\n",
      "INFO:gensim.corpora.bleicorpus:no word id mapping provided; initializing from corpus\n",
      "INFO:gensim.corpora.bleicorpus:storing corpus in Blei's LDA-C format into /var/folders/ym/v3by8lmd2bx3jpygmrlfq00m0000gn/T/fd50ad_train-mult.dat\n",
      "INFO:gensim.corpora.bleicorpus:saving vocabulary of 1746 words to /var/folders/ym/v3by8lmd2bx3jpygmrlfq00m0000gn/T/fd50ad_train-mult.dat.vocab\n",
      "INFO:gensim.models.wrappers.dtmmodel:training DTM with args --ntopics=7 --model=dtm  --mode=fit --initialize_lda=true --corpus_prefix=/var/folders/ym/v3by8lmd2bx3jpygmrlfq00m0000gn/T/fd50ad_train --outname=/var/folders/ym/v3by8lmd2bx3jpygmrlfq00m0000gn/T/fd50ad_train_out --alpha=0.01 --lda_max_em_iter=10 --lda_sequence_min_iter=6  --lda_sequence_max_iter=20 --top_chain_var=0.005 --rng_seed=0 \n",
      "INFO:gensim.models.wrappers.dtmmodel:Running command ['dtm-master/bin/dtm-darwin64', '--ntopics=7', '--model=dtm', '--mode=fit', '--initialize_lda=true', '--corpus_prefix=/var/folders/ym/v3by8lmd2bx3jpygmrlfq00m0000gn/T/fd50ad_train', '--outname=/var/folders/ym/v3by8lmd2bx3jpygmrlfq00m0000gn/T/fd50ad_train_out', '--alpha=0.01', '--lda_max_em_iter=10', '--lda_sequence_min_iter=6', '--lda_sequence_max_iter=20', '--top_chain_var=0.005', '--rng_seed=0']\n"
     ]
    },
    {
     "name": "stdout",
     "output_type": "stream",
     "text": [
      "\n",
      "7 topics took: 7.56991100311 seconds."
     ]
    },
    {
     "name": "stderr",
     "output_type": "stream",
     "text": [
      "INFO:gensim.models.wrappers.dtmmodel:serializing temporary corpus to /var/folders/ym/v3by8lmd2bx3jpygmrlfq00m0000gn/T/b71fe2_train-mult.dat\n",
      "INFO:gensim.corpora.bleicorpus:no word id mapping provided; initializing from corpus\n",
      "INFO:gensim.corpora.bleicorpus:storing corpus in Blei's LDA-C format into /var/folders/ym/v3by8lmd2bx3jpygmrlfq00m0000gn/T/b71fe2_train-mult.dat\n",
      "INFO:gensim.corpora.bleicorpus:saving vocabulary of 1746 words to /var/folders/ym/v3by8lmd2bx3jpygmrlfq00m0000gn/T/b71fe2_train-mult.dat.vocab\n",
      "INFO:gensim.models.wrappers.dtmmodel:training DTM with args --ntopics=8 --model=dtm  --mode=fit --initialize_lda=true --corpus_prefix=/var/folders/ym/v3by8lmd2bx3jpygmrlfq00m0000gn/T/b71fe2_train --outname=/var/folders/ym/v3by8lmd2bx3jpygmrlfq00m0000gn/T/b71fe2_train_out --alpha=0.01 --lda_max_em_iter=10 --lda_sequence_min_iter=6  --lda_sequence_max_iter=20 --top_chain_var=0.005 --rng_seed=0 \n",
      "INFO:gensim.models.wrappers.dtmmodel:Running command ['dtm-master/bin/dtm-darwin64', '--ntopics=8', '--model=dtm', '--mode=fit', '--initialize_lda=true', '--corpus_prefix=/var/folders/ym/v3by8lmd2bx3jpygmrlfq00m0000gn/T/b71fe2_train', '--outname=/var/folders/ym/v3by8lmd2bx3jpygmrlfq00m0000gn/T/b71fe2_train_out', '--alpha=0.01', '--lda_max_em_iter=10', '--lda_sequence_min_iter=6', '--lda_sequence_max_iter=20', '--top_chain_var=0.005', '--rng_seed=0']\n"
     ]
    },
    {
     "name": "stdout",
     "output_type": "stream",
     "text": [
      "\n",
      "8 topics took: 8.38314294815 seconds."
     ]
    },
    {
     "name": "stderr",
     "output_type": "stream",
     "text": [
      "INFO:gensim.models.wrappers.dtmmodel:serializing temporary corpus to /var/folders/ym/v3by8lmd2bx3jpygmrlfq00m0000gn/T/7aebb3_train-mult.dat\n",
      "INFO:gensim.corpora.bleicorpus:no word id mapping provided; initializing from corpus\n",
      "INFO:gensim.corpora.bleicorpus:storing corpus in Blei's LDA-C format into /var/folders/ym/v3by8lmd2bx3jpygmrlfq00m0000gn/T/7aebb3_train-mult.dat\n",
      "INFO:gensim.corpora.bleicorpus:saving vocabulary of 1746 words to /var/folders/ym/v3by8lmd2bx3jpygmrlfq00m0000gn/T/7aebb3_train-mult.dat.vocab\n",
      "INFO:gensim.models.wrappers.dtmmodel:training DTM with args --ntopics=9 --model=dtm  --mode=fit --initialize_lda=true --corpus_prefix=/var/folders/ym/v3by8lmd2bx3jpygmrlfq00m0000gn/T/7aebb3_train --outname=/var/folders/ym/v3by8lmd2bx3jpygmrlfq00m0000gn/T/7aebb3_train_out --alpha=0.01 --lda_max_em_iter=10 --lda_sequence_min_iter=6  --lda_sequence_max_iter=20 --top_chain_var=0.005 --rng_seed=0 \n",
      "INFO:gensim.models.wrappers.dtmmodel:Running command ['dtm-master/bin/dtm-darwin64', '--ntopics=9', '--model=dtm', '--mode=fit', '--initialize_lda=true', '--corpus_prefix=/var/folders/ym/v3by8lmd2bx3jpygmrlfq00m0000gn/T/7aebb3_train', '--outname=/var/folders/ym/v3by8lmd2bx3jpygmrlfq00m0000gn/T/7aebb3_train_out', '--alpha=0.01', '--lda_max_em_iter=10', '--lda_sequence_min_iter=6', '--lda_sequence_max_iter=20', '--top_chain_var=0.005', '--rng_seed=0']\n"
     ]
    },
    {
     "name": "stdout",
     "output_type": "stream",
     "text": [
      "\n",
      "9 topics took: 8.69687390327 seconds."
     ]
    },
    {
     "name": "stderr",
     "output_type": "stream",
     "text": [
      "INFO:gensim.models.wrappers.dtmmodel:serializing temporary corpus to /var/folders/ym/v3by8lmd2bx3jpygmrlfq00m0000gn/T/2d3f4e_train-mult.dat\n",
      "INFO:gensim.corpora.bleicorpus:no word id mapping provided; initializing from corpus\n",
      "INFO:gensim.corpora.bleicorpus:storing corpus in Blei's LDA-C format into /var/folders/ym/v3by8lmd2bx3jpygmrlfq00m0000gn/T/2d3f4e_train-mult.dat\n",
      "INFO:gensim.corpora.bleicorpus:saving vocabulary of 1746 words to /var/folders/ym/v3by8lmd2bx3jpygmrlfq00m0000gn/T/2d3f4e_train-mult.dat.vocab\n",
      "INFO:gensim.models.wrappers.dtmmodel:training DTM with args --ntopics=10 --model=dtm  --mode=fit --initialize_lda=true --corpus_prefix=/var/folders/ym/v3by8lmd2bx3jpygmrlfq00m0000gn/T/2d3f4e_train --outname=/var/folders/ym/v3by8lmd2bx3jpygmrlfq00m0000gn/T/2d3f4e_train_out --alpha=0.01 --lda_max_em_iter=10 --lda_sequence_min_iter=6  --lda_sequence_max_iter=20 --top_chain_var=0.005 --rng_seed=0 \n",
      "INFO:gensim.models.wrappers.dtmmodel:Running command ['dtm-master/bin/dtm-darwin64', '--ntopics=10', '--model=dtm', '--mode=fit', '--initialize_lda=true', '--corpus_prefix=/var/folders/ym/v3by8lmd2bx3jpygmrlfq00m0000gn/T/2d3f4e_train', '--outname=/var/folders/ym/v3by8lmd2bx3jpygmrlfq00m0000gn/T/2d3f4e_train_out', '--alpha=0.01', '--lda_max_em_iter=10', '--lda_sequence_min_iter=6', '--lda_sequence_max_iter=20', '--top_chain_var=0.005', '--rng_seed=0']\n"
     ]
    },
    {
     "name": "stdout",
     "output_type": "stream",
     "text": [
      "\n",
      "10 topics took: 9.57473897934 seconds.\n"
     ]
    }
   ],
   "source": [
    "n_tops = range(2,11)\n",
    "time_seq = [25]*4\n",
    "corpus = DTMcorpus(documents[:100])\n",
    "topic_times = []\n",
    "for n_top in n_tops:\n",
    "    t0 = time.time()\n",
    "    model = DtmModel(dtm_path,corpus,time_seq,num_topics=n_top,id2word=corpus.dictionary,initialize_lda=True)\n",
    "    delta = time.time() - t0\n",
    "    topic_times.append((100,4,n_top,delta))\n",
    "    print \"{} topics took: {} seconds.\".format(n_top,delta)\n",
    "topic_times = np.array(topic_times)"
   ]
  },
  {
   "cell_type": "code",
   "execution_count": 64,
   "metadata": {
    "collapsed": false
   },
   "outputs": [
    {
     "data": {
      "image/png": "[encoded data removed]",
      "text/plain": [
       "<matplotlib.figure.Figure at 0x10b885310>"
      ]
     },
     "metadata": {},
     "output_type": "display_data"
    },
    {
     "name": "stdout",
     "output_type": "stream",
     "text": [
      "0.821436781875\n"
     ]
    }
   ],
   "source": [
    "plt.figure(figsize = (7,7))\n",
    "plt.plot(topic_times[:,2],topic_times[:,3])\n",
    "plt.xlabel(\"Num. Topics\")\n",
    "plt.ylabel(\"Time (sec.)\")\n",
    "plt.title(\"DTM Runtime vs Number of Topics\")\n",
    "plt.show()\n",
    "print np.mean(topic_times[:,2]/topic_times[:,3]) # average slope\n",
    "# 1.29 seconds for each new topic\n",
    "# .82 topics/sec"
   ]
  },
  {
   "cell_type": "markdown",
   "metadata": {},
   "source": [
    "### Run Time Vs. Number of Documents"
   ]
  },
  {
   "cell_type": "code",
   "execution_count": 32,
   "metadata": {
    "collapsed": false
   },
   "outputs": [
    {
     "name": "stderr",
     "output_type": "stream",
     "text": [
      "INFO:gensim.corpora.dictionary:adding document #0 to Dictionary(0 unique tokens: [])\n",
      "INFO:gensim.corpora.dictionary:built Dictionary(1746 unique tokens: [u'helical', u'magnetic', u'yellow', u'circuitry', u'whose']...) from 100 documents (total 7140 corpus positions)\n",
      "INFO:gensim.models.wrappers.dtmmodel:serializing temporary corpus to /var/folders/ym/v3by8lmd2bx3jpygmrlfq00m0000gn/T/e8681a_train-mult.dat\n",
      "INFO:gensim.corpora.bleicorpus:no word id mapping provided; initializing from corpus\n",
      "INFO:gensim.corpora.bleicorpus:storing corpus in Blei's LDA-C format into /var/folders/ym/v3by8lmd2bx3jpygmrlfq00m0000gn/T/e8681a_train-mult.dat\n",
      "INFO:gensim.corpora.bleicorpus:saving vocabulary of 1746 words to /var/folders/ym/v3by8lmd2bx3jpygmrlfq00m0000gn/T/e8681a_train-mult.dat.vocab\n",
      "INFO:gensim.models.wrappers.dtmmodel:training DTM with args --ntopics=5 --model=dtm  --mode=fit --initialize_lda=true --corpus_prefix=/var/folders/ym/v3by8lmd2bx3jpygmrlfq00m0000gn/T/e8681a_train --outname=/var/folders/ym/v3by8lmd2bx3jpygmrlfq00m0000gn/T/e8681a_train_out --alpha=0.01 --lda_max_em_iter=10 --lda_sequence_min_iter=6  --lda_sequence_max_iter=20 --top_chain_var=0.005 --rng_seed=0 \n",
      "INFO:gensim.models.wrappers.dtmmodel:Running command ['dtm-master/bin/dtm-darwin64', '--ntopics=5', '--model=dtm', '--mode=fit', '--initialize_lda=true', '--corpus_prefix=/var/folders/ym/v3by8lmd2bx3jpygmrlfq00m0000gn/T/e8681a_train', '--outname=/var/folders/ym/v3by8lmd2bx3jpygmrlfq00m0000gn/T/e8681a_train_out', '--alpha=0.01', '--lda_max_em_iter=10', '--lda_sequence_min_iter=6', '--lda_sequence_max_iter=20', '--top_chain_var=0.005', '--rng_seed=0']\n",
      "INFO:gensim.corpora.dictionary:adding document #0 to Dictionary(0 unique tokens: [])\n",
      "INFO:gensim.corpora.dictionary:built Dictionary(1927 unique tokens: [u'represent', u'helical', u'magnetic', u'yellow', u'four']...) from 116 documents (total 8477 corpus positions)\n",
      "INFO:gensim.models.wrappers.dtmmodel:serializing temporary corpus to /var/folders/ym/v3by8lmd2bx3jpygmrlfq00m0000gn/T/1fdf54_train-mult.dat\n",
      "INFO:gensim.corpora.bleicorpus:no word id mapping provided; initializing from corpus\n",
      "INFO:gensim.corpora.bleicorpus:storing corpus in Blei's LDA-C format into /var/folders/ym/v3by8lmd2bx3jpygmrlfq00m0000gn/T/1fdf54_train-mult.dat\n",
      "INFO:gensim.corpora.bleicorpus:saving vocabulary of 1927 words to /var/folders/ym/v3by8lmd2bx3jpygmrlfq00m0000gn/T/1fdf54_train-mult.dat.vocab\n",
      "INFO:gensim.models.wrappers.dtmmodel:training DTM with args --ntopics=5 --model=dtm  --mode=fit --initialize_lda=true --corpus_prefix=/var/folders/ym/v3by8lmd2bx3jpygmrlfq00m0000gn/T/1fdf54_train --outname=/var/folders/ym/v3by8lmd2bx3jpygmrlfq00m0000gn/T/1fdf54_train_out --alpha=0.01 --lda_max_em_iter=10 --lda_sequence_min_iter=6  --lda_sequence_max_iter=20 --top_chain_var=0.005 --rng_seed=0 \n",
      "INFO:gensim.models.wrappers.dtmmodel:Running command ['dtm-master/bin/dtm-darwin64', '--ntopics=5', '--model=dtm', '--mode=fit', '--initialize_lda=true', '--corpus_prefix=/var/folders/ym/v3by8lmd2bx3jpygmrlfq00m0000gn/T/1fdf54_train', '--outname=/var/folders/ym/v3by8lmd2bx3jpygmrlfq00m0000gn/T/1fdf54_train_out', '--alpha=0.01', '--lda_max_em_iter=10', '--lda_sequence_min_iter=6', '--lda_sequence_max_iter=20', '--top_chain_var=0.005', '--rng_seed=0']\n"
     ]
    },
    {
     "name": "stdout",
     "output_type": "stream",
     "text": [
      "100 docs took: 6.51437282562 seconds.\n",
      "116 docs took: 7.68797397614 seconds."
     ]
    },
    {
     "name": "stderr",
     "output_type": "stream",
     "text": [
      "INFO:gensim.corpora.dictionary:adding document #0 to Dictionary(0 unique tokens: [])\n",
      "INFO:gensim.corpora.dictionary:built Dictionary(2045 unique tokens: [u'represent', u'helical', u'magnetic', u'yellow', u'four']...) from 132 documents (total 9374 corpus positions)\n",
      "INFO:gensim.models.wrappers.dtmmodel:serializing temporary corpus to /var/folders/ym/v3by8lmd2bx3jpygmrlfq00m0000gn/T/571fa8_train-mult.dat\n",
      "INFO:gensim.corpora.bleicorpus:no word id mapping provided; initializing from corpus\n",
      "INFO:gensim.corpora.bleicorpus:storing corpus in Blei's LDA-C format into /var/folders/ym/v3by8lmd2bx3jpygmrlfq00m0000gn/T/571fa8_train-mult.dat\n",
      "INFO:gensim.corpora.bleicorpus:saving vocabulary of 2045 words to /var/folders/ym/v3by8lmd2bx3jpygmrlfq00m0000gn/T/571fa8_train-mult.dat.vocab\n",
      "INFO:gensim.models.wrappers.dtmmodel:training DTM with args --ntopics=5 --model=dtm  --mode=fit --initialize_lda=true --corpus_prefix=/var/folders/ym/v3by8lmd2bx3jpygmrlfq00m0000gn/T/571fa8_train --outname=/var/folders/ym/v3by8lmd2bx3jpygmrlfq00m0000gn/T/571fa8_train_out --alpha=0.01 --lda_max_em_iter=10 --lda_sequence_min_iter=6  --lda_sequence_max_iter=20 --top_chain_var=0.005 --rng_seed=0 \n",
      "INFO:gensim.models.wrappers.dtmmodel:Running command ['dtm-master/bin/dtm-darwin64', '--ntopics=5', '--model=dtm', '--mode=fit', '--initialize_lda=true', '--corpus_prefix=/var/folders/ym/v3by8lmd2bx3jpygmrlfq00m0000gn/T/571fa8_train', '--outname=/var/folders/ym/v3by8lmd2bx3jpygmrlfq00m0000gn/T/571fa8_train_out', '--alpha=0.01', '--lda_max_em_iter=10', '--lda_sequence_min_iter=6', '--lda_sequence_max_iter=20', '--top_chain_var=0.005', '--rng_seed=0']\n"
     ]
    },
    {
     "name": "stdout",
     "output_type": "stream",
     "text": [
      "\n",
      "132 docs took: 7.85121798515 seconds."
     ]
    },
    {
     "name": "stderr",
     "output_type": "stream",
     "text": [
      "INFO:gensim.corpora.dictionary:adding document #0 to Dictionary(0 unique tokens: [])\n",
      "INFO:gensim.corpora.dictionary:built Dictionary(2204 unique tokens: [u'represent', u'helical', u'magnetic', u'yellow', u'four']...) from 148 documents (total 10675 corpus positions)\n",
      "INFO:gensim.models.wrappers.dtmmodel:serializing temporary corpus to /var/folders/ym/v3by8lmd2bx3jpygmrlfq00m0000gn/T/89cbe0_train-mult.dat\n",
      "INFO:gensim.corpora.bleicorpus:no word id mapping provided; initializing from corpus\n",
      "INFO:gensim.corpora.bleicorpus:storing corpus in Blei's LDA-C format into /var/folders/ym/v3by8lmd2bx3jpygmrlfq00m0000gn/T/89cbe0_train-mult.dat\n",
      "INFO:gensim.corpora.bleicorpus:saving vocabulary of 2204 words to /var/folders/ym/v3by8lmd2bx3jpygmrlfq00m0000gn/T/89cbe0_train-mult.dat.vocab\n",
      "INFO:gensim.models.wrappers.dtmmodel:training DTM with args --ntopics=5 --model=dtm  --mode=fit --initialize_lda=true --corpus_prefix=/var/folders/ym/v3by8lmd2bx3jpygmrlfq00m0000gn/T/89cbe0_train --outname=/var/folders/ym/v3by8lmd2bx3jpygmrlfq00m0000gn/T/89cbe0_train_out --alpha=0.01 --lda_max_em_iter=10 --lda_sequence_min_iter=6  --lda_sequence_max_iter=20 --top_chain_var=0.005 --rng_seed=0 \n",
      "INFO:gensim.models.wrappers.dtmmodel:Running command ['dtm-master/bin/dtm-darwin64', '--ntopics=5', '--model=dtm', '--mode=fit', '--initialize_lda=true', '--corpus_prefix=/var/folders/ym/v3by8lmd2bx3jpygmrlfq00m0000gn/T/89cbe0_train', '--outname=/var/folders/ym/v3by8lmd2bx3jpygmrlfq00m0000gn/T/89cbe0_train_out', '--alpha=0.01', '--lda_max_em_iter=10', '--lda_sequence_min_iter=6', '--lda_sequence_max_iter=20', '--top_chain_var=0.005', '--rng_seed=0']\n"
     ]
    },
    {
     "name": "stdout",
     "output_type": "stream",
     "text": [
      "\n",
      "148 docs took: 9.25326013565 seconds."
     ]
    },
    {
     "name": "stderr",
     "output_type": "stream",
     "text": [
      "INFO:gensim.corpora.dictionary:adding document #0 to Dictionary(0 unique tokens: [])\n",
      "INFO:gensim.corpora.dictionary:built Dictionary(2341 unique tokens: [u'represent', u'helical', u'magnetic', u'yellow', u'four']...) from 164 documents (total 11927 corpus positions)\n",
      "INFO:gensim.models.wrappers.dtmmodel:serializing temporary corpus to /var/folders/ym/v3by8lmd2bx3jpygmrlfq00m0000gn/T/ba7001_train-mult.dat\n",
      "INFO:gensim.corpora.bleicorpus:no word id mapping provided; initializing from corpus\n",
      "INFO:gensim.corpora.bleicorpus:storing corpus in Blei's LDA-C format into /var/folders/ym/v3by8lmd2bx3jpygmrlfq00m0000gn/T/ba7001_train-mult.dat\n",
      "INFO:gensim.corpora.bleicorpus:saving vocabulary of 2341 words to /var/folders/ym/v3by8lmd2bx3jpygmrlfq00m0000gn/T/ba7001_train-mult.dat.vocab\n",
      "INFO:gensim.models.wrappers.dtmmodel:training DTM with args --ntopics=5 --model=dtm  --mode=fit --initialize_lda=true --corpus_prefix=/var/folders/ym/v3by8lmd2bx3jpygmrlfq00m0000gn/T/ba7001_train --outname=/var/folders/ym/v3by8lmd2bx3jpygmrlfq00m0000gn/T/ba7001_train_out --alpha=0.01 --lda_max_em_iter=10 --lda_sequence_min_iter=6  --lda_sequence_max_iter=20 --top_chain_var=0.005 --rng_seed=0 \n",
      "INFO:gensim.models.wrappers.dtmmodel:Running command ['dtm-master/bin/dtm-darwin64', '--ntopics=5', '--model=dtm', '--mode=fit', '--initialize_lda=true', '--corpus_prefix=/var/folders/ym/v3by8lmd2bx3jpygmrlfq00m0000gn/T/ba7001_train', '--outname=/var/folders/ym/v3by8lmd2bx3jpygmrlfq00m0000gn/T/ba7001_train_out', '--alpha=0.01', '--lda_max_em_iter=10', '--lda_sequence_min_iter=6', '--lda_sequence_max_iter=20', '--top_chain_var=0.005', '--rng_seed=0']\n"
     ]
    },
    {
     "name": "stdout",
     "output_type": "stream",
     "text": [
      "\n",
      "164 docs took: 9.75275397301 seconds."
     ]
    },
    {
     "name": "stderr",
     "output_type": "stream",
     "text": [
      "INFO:gensim.corpora.dictionary:adding document #0 to Dictionary(0 unique tokens: [])\n",
      "INFO:gensim.corpora.dictionary:built Dictionary(2467 unique tokens: [u'represent', u'helical', u'magnetic', u'yellow', u'four']...) from 180 documents (total 13090 corpus positions)\n",
      "INFO:gensim.models.wrappers.dtmmodel:serializing temporary corpus to /var/folders/ym/v3by8lmd2bx3jpygmrlfq00m0000gn/T/5c6964_train-mult.dat\n",
      "INFO:gensim.corpora.bleicorpus:no word id mapping provided; initializing from corpus\n",
      "INFO:gensim.corpora.bleicorpus:storing corpus in Blei's LDA-C format into /var/folders/ym/v3by8lmd2bx3jpygmrlfq00m0000gn/T/5c6964_train-mult.dat\n",
      "INFO:gensim.corpora.bleicorpus:saving vocabulary of 2467 words to /var/folders/ym/v3by8lmd2bx3jpygmrlfq00m0000gn/T/5c6964_train-mult.dat.vocab\n",
      "INFO:gensim.models.wrappers.dtmmodel:training DTM with args --ntopics=5 --model=dtm  --mode=fit --initialize_lda=true --corpus_prefix=/var/folders/ym/v3by8lmd2bx3jpygmrlfq00m0000gn/T/5c6964_train --outname=/var/folders/ym/v3by8lmd2bx3jpygmrlfq00m0000gn/T/5c6964_train_out --alpha=0.01 --lda_max_em_iter=10 --lda_sequence_min_iter=6  --lda_sequence_max_iter=20 --top_chain_var=0.005 --rng_seed=0 \n",
      "INFO:gensim.models.wrappers.dtmmodel:Running command ['dtm-master/bin/dtm-darwin64', '--ntopics=5', '--model=dtm', '--mode=fit', '--initialize_lda=true', '--corpus_prefix=/var/folders/ym/v3by8lmd2bx3jpygmrlfq00m0000gn/T/5c6964_train', '--outname=/var/folders/ym/v3by8lmd2bx3jpygmrlfq00m0000gn/T/5c6964_train_out', '--alpha=0.01', '--lda_max_em_iter=10', '--lda_sequence_min_iter=6', '--lda_sequence_max_iter=20', '--top_chain_var=0.005', '--rng_seed=0']\n"
     ]
    },
    {
     "name": "stdout",
     "output_type": "stream",
     "text": [
      "\n",
      "180 docs took: 11.4734289646 seconds."
     ]
    },
    {
     "name": "stderr",
     "output_type": "stream",
     "text": [
      "INFO:gensim.corpora.dictionary:adding document #0 to Dictionary(0 unique tokens: [])\n",
      "INFO:gensim.corpora.dictionary:built Dictionary(2646 unique tokens: [u'represent', u'helical', u'magnetic', u'yellow', u'four']...) from 196 documents (total 14486 corpus positions)\n",
      "INFO:gensim.models.wrappers.dtmmodel:serializing temporary corpus to /var/folders/ym/v3by8lmd2bx3jpygmrlfq00m0000gn/T/be9d67_train-mult.dat\n",
      "INFO:gensim.corpora.bleicorpus:no word id mapping provided; initializing from corpus\n",
      "INFO:gensim.corpora.bleicorpus:storing corpus in Blei's LDA-C format into /var/folders/ym/v3by8lmd2bx3jpygmrlfq00m0000gn/T/be9d67_train-mult.dat\n",
      "INFO:gensim.corpora.bleicorpus:saving vocabulary of 2646 words to /var/folders/ym/v3by8lmd2bx3jpygmrlfq00m0000gn/T/be9d67_train-mult.dat.vocab\n",
      "INFO:gensim.models.wrappers.dtmmodel:training DTM with args --ntopics=5 --model=dtm  --mode=fit --initialize_lda=true --corpus_prefix=/var/folders/ym/v3by8lmd2bx3jpygmrlfq00m0000gn/T/be9d67_train --outname=/var/folders/ym/v3by8lmd2bx3jpygmrlfq00m0000gn/T/be9d67_train_out --alpha=0.01 --lda_max_em_iter=10 --lda_sequence_min_iter=6  --lda_sequence_max_iter=20 --top_chain_var=0.005 --rng_seed=0 \n",
      "INFO:gensim.models.wrappers.dtmmodel:Running command ['dtm-master/bin/dtm-darwin64', '--ntopics=5', '--model=dtm', '--mode=fit', '--initialize_lda=true', '--corpus_prefix=/var/folders/ym/v3by8lmd2bx3jpygmrlfq00m0000gn/T/be9d67_train', '--outname=/var/folders/ym/v3by8lmd2bx3jpygmrlfq00m0000gn/T/be9d67_train_out', '--alpha=0.01', '--lda_max_em_iter=10', '--lda_sequence_min_iter=6', '--lda_sequence_max_iter=20', '--top_chain_var=0.005', '--rng_seed=0']\n"
     ]
    },
    {
     "name": "stdout",
     "output_type": "stream",
     "text": [
      "\n",
      "196 docs took: 11.9210710526 seconds."
     ]
    },
    {
     "name": "stderr",
     "output_type": "stream",
     "text": [
      "INFO:gensim.corpora.dictionary:adding document #0 to Dictionary(0 unique tokens: [])\n",
      "INFO:gensim.corpora.dictionary:built Dictionary(2788 unique tokens: [u'represent', u'helical', u'magnetic', u'yellow', u'four']...) from 212 documents (total 15851 corpus positions)\n",
      "INFO:gensim.models.wrappers.dtmmodel:serializing temporary corpus to /var/folders/ym/v3by8lmd2bx3jpygmrlfq00m0000gn/T/36aebd_train-mult.dat\n",
      "INFO:gensim.corpora.bleicorpus:no word id mapping provided; initializing from corpus\n",
      "INFO:gensim.corpora.bleicorpus:storing corpus in Blei's LDA-C format into /var/folders/ym/v3by8lmd2bx3jpygmrlfq00m0000gn/T/36aebd_train-mult.dat\n",
      "INFO:gensim.corpora.bleicorpus:saving vocabulary of 2788 words to /var/folders/ym/v3by8lmd2bx3jpygmrlfq00m0000gn/T/36aebd_train-mult.dat.vocab\n",
      "INFO:gensim.models.wrappers.dtmmodel:training DTM with args --ntopics=5 --model=dtm  --mode=fit --initialize_lda=true --corpus_prefix=/var/folders/ym/v3by8lmd2bx3jpygmrlfq00m0000gn/T/36aebd_train --outname=/var/folders/ym/v3by8lmd2bx3jpygmrlfq00m0000gn/T/36aebd_train_out --alpha=0.01 --lda_max_em_iter=10 --lda_sequence_min_iter=6  --lda_sequence_max_iter=20 --top_chain_var=0.005 --rng_seed=0 \n",
      "INFO:gensim.models.wrappers.dtmmodel:Running command ['dtm-master/bin/dtm-darwin64', '--ntopics=5', '--model=dtm', '--mode=fit', '--initialize_lda=true', '--corpus_prefix=/var/folders/ym/v3by8lmd2bx3jpygmrlfq00m0000gn/T/36aebd_train', '--outname=/var/folders/ym/v3by8lmd2bx3jpygmrlfq00m0000gn/T/36aebd_train_out', '--alpha=0.01', '--lda_max_em_iter=10', '--lda_sequence_min_iter=6', '--lda_sequence_max_iter=20', '--top_chain_var=0.005', '--rng_seed=0']\n"
     ]
    },
    {
     "name": "stdout",
     "output_type": "stream",
     "text": [
      "\n",
      "212 docs took: 11.7957777977 seconds."
     ]
    },
    {
     "name": "stderr",
     "output_type": "stream",
     "text": [
      "INFO:gensim.corpora.dictionary:adding document #0 to Dictionary(0 unique tokens: [])\n",
      "INFO:gensim.corpora.dictionary:built Dictionary(2905 unique tokens: [u'represent', u'helical', u'magnetic', u'dynamic', u'yellow']...) from 228 documents (total 16976 corpus positions)\n",
      "INFO:gensim.models.wrappers.dtmmodel:serializing temporary corpus to /var/folders/ym/v3by8lmd2bx3jpygmrlfq00m0000gn/T/f537a7_train-mult.dat\n",
      "INFO:gensim.corpora.bleicorpus:no word id mapping provided; initializing from corpus\n",
      "INFO:gensim.corpora.bleicorpus:storing corpus in Blei's LDA-C format into /var/folders/ym/v3by8lmd2bx3jpygmrlfq00m0000gn/T/f537a7_train-mult.dat\n",
      "INFO:gensim.corpora.bleicorpus:saving vocabulary of 2905 words to /var/folders/ym/v3by8lmd2bx3jpygmrlfq00m0000gn/T/f537a7_train-mult.dat.vocab\n",
      "INFO:gensim.models.wrappers.dtmmodel:training DTM with args --ntopics=5 --model=dtm  --mode=fit --initialize_lda=true --corpus_prefix=/var/folders/ym/v3by8lmd2bx3jpygmrlfq00m0000gn/T/f537a7_train --outname=/var/folders/ym/v3by8lmd2bx3jpygmrlfq00m0000gn/T/f537a7_train_out --alpha=0.01 --lda_max_em_iter=10 --lda_sequence_min_iter=6  --lda_sequence_max_iter=20 --top_chain_var=0.005 --rng_seed=0 \n",
      "INFO:gensim.models.wrappers.dtmmodel:Running command ['dtm-master/bin/dtm-darwin64', '--ntopics=5', '--model=dtm', '--mode=fit', '--initialize_lda=true', '--corpus_prefix=/var/folders/ym/v3by8lmd2bx3jpygmrlfq00m0000gn/T/f537a7_train', '--outname=/var/folders/ym/v3by8lmd2bx3jpygmrlfq00m0000gn/T/f537a7_train_out', '--alpha=0.01', '--lda_max_em_iter=10', '--lda_sequence_min_iter=6', '--lda_sequence_max_iter=20', '--top_chain_var=0.005', '--rng_seed=0']\n"
     ]
    },
    {
     "name": "stdout",
     "output_type": "stream",
     "text": [
      "\n",
      "228 docs took: 13.1372599602 seconds."
     ]
    },
    {
     "name": "stderr",
     "output_type": "stream",
     "text": [
      "INFO:gensim.corpora.dictionary:adding document #0 to Dictionary(0 unique tokens: [])\n",
      "INFO:gensim.corpora.dictionary:built Dictionary(3010 unique tokens: [u'represent', u'helical', u'magnetic', u'dynamic', u'yellow']...) from 244 documents (total 18183 corpus positions)\n",
      "INFO:gensim.models.wrappers.dtmmodel:serializing temporary corpus to /var/folders/ym/v3by8lmd2bx3jpygmrlfq00m0000gn/T/efdba1_train-mult.dat\n",
      "INFO:gensim.corpora.bleicorpus:no word id mapping provided; initializing from corpus\n",
      "INFO:gensim.corpora.bleicorpus:storing corpus in Blei's LDA-C format into /var/folders/ym/v3by8lmd2bx3jpygmrlfq00m0000gn/T/efdba1_train-mult.dat\n",
      "INFO:gensim.corpora.bleicorpus:saving vocabulary of 3010 words to /var/folders/ym/v3by8lmd2bx3jpygmrlfq00m0000gn/T/efdba1_train-mult.dat.vocab\n",
      "INFO:gensim.models.wrappers.dtmmodel:training DTM with args --ntopics=5 --model=dtm  --mode=fit --initialize_lda=true --corpus_prefix=/var/folders/ym/v3by8lmd2bx3jpygmrlfq00m0000gn/T/efdba1_train --outname=/var/folders/ym/v3by8lmd2bx3jpygmrlfq00m0000gn/T/efdba1_train_out --alpha=0.01 --lda_max_em_iter=10 --lda_sequence_min_iter=6  --lda_sequence_max_iter=20 --top_chain_var=0.005 --rng_seed=0 \n",
      "INFO:gensim.models.wrappers.dtmmodel:Running command ['dtm-master/bin/dtm-darwin64', '--ntopics=5', '--model=dtm', '--mode=fit', '--initialize_lda=true', '--corpus_prefix=/var/folders/ym/v3by8lmd2bx3jpygmrlfq00m0000gn/T/efdba1_train', '--outname=/var/folders/ym/v3by8lmd2bx3jpygmrlfq00m0000gn/T/efdba1_train_out', '--alpha=0.01', '--lda_max_em_iter=10', '--lda_sequence_min_iter=6', '--lda_sequence_max_iter=20', '--top_chain_var=0.005', '--rng_seed=0']\n"
     ]
    },
    {
     "name": "stdout",
     "output_type": "stream",
     "text": [
      "\n",
      "244 docs took: 14.6317107677 seconds.\n"
     ]
    }
   ],
   "source": [
    "n_tops = 5\n",
    "doc_times = []\n",
    "for i in range(10):\n",
    "    n_docs = 100 + i*16\n",
    "    corpus = DTMcorpus(documents[:n_docs])\n",
    "    time_seq = [25 + 4*i]*4\n",
    "    t0 = time.time()\n",
    "    model = DtmModel(dtm_path,corpus,time_seq,num_topics=n_tops,id2word=corpus.dictionary,initialize_lda=True)\n",
    "    delta = time.time() - t0\n",
    "    doc_times.append((n_docs,4,n_tops,delta))\n",
    "    print \"{} docs took: {} seconds.\".format(n_docs,delta)\n",
    "doc_times = np.array(doc_times)"
   ]
  },
  {
   "cell_type": "code",
   "execution_count": 63,
   "metadata": {
    "collapsed": false
   },
   "outputs": [
    {
     "data": {
      "image/png": "[encoded data removed]",
      "text/plain": [
       "<matplotlib.figure.Figure at 0x10b885490>"
      ]
     },
     "metadata": {},
     "output_type": "display_data"
    },
    {
     "name": "stdout",
     "output_type": "stream",
     "text": [
      "0.0610677443471\n"
     ]
    }
   ],
   "source": [
    "plt.figure(figsize = (7,7))\n",
    "plt.plot(doc_times[:,0],doc_times[:,3])\n",
    "plt.xlabel(\"Num. Docs\")\n",
    "plt.ylabel(\"Time (sec.)\")\n",
    "plt.title(\"DTM Runtime vs Number of Documents\")\n",
    "plt.show()\n",
    "print np.mean(doc_times[:,3]/doc_times[:,0]) # average slope\n",
    "#  16.4 docs/sec\n",
    "#  .061 seconds pr. document added."
   ]
  },
  {
   "cell_type": "markdown",
   "metadata": {},
   "source": [
    "### Run Time Vs. Number of Time Periods"
   ]
  },
  {
   "cell_type": "code",
   "execution_count": 57,
   "metadata": {
    "collapsed": false
   },
   "outputs": [
    {
     "name": "stderr",
     "output_type": "stream",
     "text": [
      "INFO:gensim.corpora.dictionary:adding document #0 to Dictionary(0 unique tokens: [])\n",
      "INFO:gensim.corpora.dictionary:built Dictionary(1746 unique tokens: [u'helical', u'magnetic', u'yellow', u'circuitry', u'whose']...) from 100 documents (total 7140 corpus positions)\n",
      "INFO:gensim.models.wrappers.dtmmodel:serializing temporary corpus to /var/folders/ym/v3by8lmd2bx3jpygmrlfq00m0000gn/T/40b241_train-mult.dat\n",
      "INFO:gensim.corpora.bleicorpus:no word id mapping provided; initializing from corpus\n",
      "INFO:gensim.corpora.bleicorpus:storing corpus in Blei's LDA-C format into /var/folders/ym/v3by8lmd2bx3jpygmrlfq00m0000gn/T/40b241_train-mult.dat\n",
      "INFO:gensim.corpora.bleicorpus:saving vocabulary of 1746 words to /var/folders/ym/v3by8lmd2bx3jpygmrlfq00m0000gn/T/40b241_train-mult.dat.vocab\n",
      "INFO:gensim.models.wrappers.dtmmodel:training DTM with args --ntopics=5 --model=dtm  --mode=fit --initialize_lda=true --corpus_prefix=/var/folders/ym/v3by8lmd2bx3jpygmrlfq00m0000gn/T/40b241_train --outname=/var/folders/ym/v3by8lmd2bx3jpygmrlfq00m0000gn/T/40b241_train_out --alpha=0.01 --lda_max_em_iter=10 --lda_sequence_min_iter=6  --lda_sequence_max_iter=20 --top_chain_var=0.005 --rng_seed=0 \n",
      "INFO:gensim.models.wrappers.dtmmodel:Running command ['dtm-master/bin/dtm-darwin64', '--ntopics=5', '--model=dtm', '--mode=fit', '--initialize_lda=true', '--corpus_prefix=/var/folders/ym/v3by8lmd2bx3jpygmrlfq00m0000gn/T/40b241_train', '--outname=/var/folders/ym/v3by8lmd2bx3jpygmrlfq00m0000gn/T/40b241_train_out', '--alpha=0.01', '--lda_max_em_iter=10', '--lda_sequence_min_iter=6', '--lda_sequence_max_iter=20', '--top_chain_var=0.005', '--rng_seed=0']\n",
      "INFO:gensim.corpora.dictionary:adding document #0 to Dictionary(0 unique tokens: [])\n",
      "INFO:gensim.corpora.dictionary:built Dictionary(1746 unique tokens: [u'helical', u'magnetic', u'yellow', u'circuitry', u'whose']...) from 100 documents (total 7140 corpus positions)\n",
      "INFO:gensim.models.wrappers.dtmmodel:serializing temporary corpus to /var/folders/ym/v3by8lmd2bx3jpygmrlfq00m0000gn/T/78f1e4_train-mult.dat\n",
      "INFO:gensim.corpora.bleicorpus:no word id mapping provided; initializing from corpus\n",
      "INFO:gensim.corpora.bleicorpus:storing corpus in Blei's LDA-C format into /var/folders/ym/v3by8lmd2bx3jpygmrlfq00m0000gn/T/78f1e4_train-mult.dat\n",
      "INFO:gensim.corpora.bleicorpus:saving vocabulary of 1746 words to /var/folders/ym/v3by8lmd2bx3jpygmrlfq00m0000gn/T/78f1e4_train-mult.dat.vocab\n",
      "INFO:gensim.models.wrappers.dtmmodel:training DTM with args --ntopics=5 --model=dtm  --mode=fit --initialize_lda=true --corpus_prefix=/var/folders/ym/v3by8lmd2bx3jpygmrlfq00m0000gn/T/78f1e4_train --outname=/var/folders/ym/v3by8lmd2bx3jpygmrlfq00m0000gn/T/78f1e4_train_out --alpha=0.01 --lda_max_em_iter=10 --lda_sequence_min_iter=6  --lda_sequence_max_iter=20 --top_chain_var=0.005 --rng_seed=0 \n",
      "INFO:gensim.models.wrappers.dtmmodel:Running command ['dtm-master/bin/dtm-darwin64', '--ntopics=5', '--model=dtm', '--mode=fit', '--initialize_lda=true', '--corpus_prefix=/var/folders/ym/v3by8lmd2bx3jpygmrlfq00m0000gn/T/78f1e4_train', '--outname=/var/folders/ym/v3by8lmd2bx3jpygmrlfq00m0000gn/T/78f1e4_train_out', '--alpha=0.01', '--lda_max_em_iter=10', '--lda_sequence_min_iter=6', '--lda_sequence_max_iter=20', '--top_chain_var=0.005', '--rng_seed=0']\n"
     ]
    },
    {
     "name": "stdout",
     "output_type": "stream",
     "text": [
      "4 time periods took: 6.60046601295 seconds.\n",
      "5 time periods took: 8.00951290131 seconds."
     ]
    },
    {
     "name": "stderr",
     "output_type": "stream",
     "text": [
      "INFO:gensim.corpora.dictionary:adding document #0 to Dictionary(0 unique tokens: [])\n",
      "INFO:gensim.corpora.dictionary:built Dictionary(1717 unique tokens: [u'helical', u'magnetic', u'yellow', u'circuitry', u'whose']...) from 96 documents (total 6705 corpus positions)\n",
      "INFO:gensim.models.wrappers.dtmmodel:serializing temporary corpus to /var/folders/ym/v3by8lmd2bx3jpygmrlfq00m0000gn/T/26f76c_train-mult.dat\n",
      "INFO:gensim.corpora.bleicorpus:no word id mapping provided; initializing from corpus\n",
      "INFO:gensim.corpora.bleicorpus:storing corpus in Blei's LDA-C format into /var/folders/ym/v3by8lmd2bx3jpygmrlfq00m0000gn/T/26f76c_train-mult.dat\n",
      "INFO:gensim.corpora.bleicorpus:saving vocabulary of 1717 words to /var/folders/ym/v3by8lmd2bx3jpygmrlfq00m0000gn/T/26f76c_train-mult.dat.vocab\n",
      "INFO:gensim.models.wrappers.dtmmodel:training DTM with args --ntopics=5 --model=dtm  --mode=fit --initialize_lda=true --corpus_prefix=/var/folders/ym/v3by8lmd2bx3jpygmrlfq00m0000gn/T/26f76c_train --outname=/var/folders/ym/v3by8lmd2bx3jpygmrlfq00m0000gn/T/26f76c_train_out --alpha=0.01 --lda_max_em_iter=10 --lda_sequence_min_iter=6  --lda_sequence_max_iter=20 --top_chain_var=0.005 --rng_seed=0 \n",
      "INFO:gensim.models.wrappers.dtmmodel:Running command ['dtm-master/bin/dtm-darwin64', '--ntopics=5', '--model=dtm', '--mode=fit', '--initialize_lda=true', '--corpus_prefix=/var/folders/ym/v3by8lmd2bx3jpygmrlfq00m0000gn/T/26f76c_train', '--outname=/var/folders/ym/v3by8lmd2bx3jpygmrlfq00m0000gn/T/26f76c_train_out', '--alpha=0.01', '--lda_max_em_iter=10', '--lda_sequence_min_iter=6', '--lda_sequence_max_iter=20', '--top_chain_var=0.005', '--rng_seed=0']\n"
     ]
    },
    {
     "name": "stdout",
     "output_type": "stream",
     "text": [
      "\n",
      "6 time periods took: 8.56364393234 seconds."
     ]
    },
    {
     "name": "stderr",
     "output_type": "stream",
     "text": [
      "INFO:gensim.corpora.dictionary:adding document #0 to Dictionary(0 unique tokens: [])\n",
      "INFO:gensim.corpora.dictionary:built Dictionary(1732 unique tokens: [u'helical', u'magnetic', u'yellow', u'circuitry', u'whose']...) from 98 documents (total 6957 corpus positions)\n",
      "INFO:gensim.models.wrappers.dtmmodel:serializing temporary corpus to /var/folders/ym/v3by8lmd2bx3jpygmrlfq00m0000gn/T/62df0f_train-mult.dat\n",
      "INFO:gensim.corpora.bleicorpus:no word id mapping provided; initializing from corpus\n",
      "INFO:gensim.corpora.bleicorpus:storing corpus in Blei's LDA-C format into /var/folders/ym/v3by8lmd2bx3jpygmrlfq00m0000gn/T/62df0f_train-mult.dat\n",
      "INFO:gensim.corpora.bleicorpus:saving vocabulary of 1732 words to /var/folders/ym/v3by8lmd2bx3jpygmrlfq00m0000gn/T/62df0f_train-mult.dat.vocab\n",
      "INFO:gensim.models.wrappers.dtmmodel:training DTM with args --ntopics=5 --model=dtm  --mode=fit --initialize_lda=true --corpus_prefix=/var/folders/ym/v3by8lmd2bx3jpygmrlfq00m0000gn/T/62df0f_train --outname=/var/folders/ym/v3by8lmd2bx3jpygmrlfq00m0000gn/T/62df0f_train_out --alpha=0.01 --lda_max_em_iter=10 --lda_sequence_min_iter=6  --lda_sequence_max_iter=20 --top_chain_var=0.005 --rng_seed=0 \n",
      "INFO:gensim.models.wrappers.dtmmodel:Running command ['dtm-master/bin/dtm-darwin64', '--ntopics=5', '--model=dtm', '--mode=fit', '--initialize_lda=true', '--corpus_prefix=/var/folders/ym/v3by8lmd2bx3jpygmrlfq00m0000gn/T/62df0f_train', '--outname=/var/folders/ym/v3by8lmd2bx3jpygmrlfq00m0000gn/T/62df0f_train_out', '--alpha=0.01', '--lda_max_em_iter=10', '--lda_sequence_min_iter=6', '--lda_sequence_max_iter=20', '--top_chain_var=0.005', '--rng_seed=0']\n"
     ]
    },
    {
     "name": "stdout",
     "output_type": "stream",
     "text": [
      "\n",
      "7 time periods took: 10.4791138172 seconds."
     ]
    },
    {
     "name": "stderr",
     "output_type": "stream",
     "text": [
      "INFO:gensim.corpora.dictionary:adding document #0 to Dictionary(0 unique tokens: [])\n",
      "INFO:gensim.corpora.dictionary:built Dictionary(1717 unique tokens: [u'helical', u'magnetic', u'yellow', u'circuitry', u'whose']...) from 96 documents (total 6705 corpus positions)\n",
      "INFO:gensim.models.wrappers.dtmmodel:serializing temporary corpus to /var/folders/ym/v3by8lmd2bx3jpygmrlfq00m0000gn/T/1d6933_train-mult.dat\n",
      "INFO:gensim.corpora.bleicorpus:no word id mapping provided; initializing from corpus\n",
      "INFO:gensim.corpora.bleicorpus:storing corpus in Blei's LDA-C format into /var/folders/ym/v3by8lmd2bx3jpygmrlfq00m0000gn/T/1d6933_train-mult.dat\n",
      "INFO:gensim.corpora.bleicorpus:saving vocabulary of 1717 words to /var/folders/ym/v3by8lmd2bx3jpygmrlfq00m0000gn/T/1d6933_train-mult.dat.vocab\n",
      "INFO:gensim.models.wrappers.dtmmodel:training DTM with args --ntopics=5 --model=dtm  --mode=fit --initialize_lda=true --corpus_prefix=/var/folders/ym/v3by8lmd2bx3jpygmrlfq00m0000gn/T/1d6933_train --outname=/var/folders/ym/v3by8lmd2bx3jpygmrlfq00m0000gn/T/1d6933_train_out --alpha=0.01 --lda_max_em_iter=10 --lda_sequence_min_iter=6  --lda_sequence_max_iter=20 --top_chain_var=0.005 --rng_seed=0 \n",
      "INFO:gensim.models.wrappers.dtmmodel:Running command ['dtm-master/bin/dtm-darwin64', '--ntopics=5', '--model=dtm', '--mode=fit', '--initialize_lda=true', '--corpus_prefix=/var/folders/ym/v3by8lmd2bx3jpygmrlfq00m0000gn/T/1d6933_train', '--outname=/var/folders/ym/v3by8lmd2bx3jpygmrlfq00m0000gn/T/1d6933_train_out', '--alpha=0.01', '--lda_max_em_iter=10', '--lda_sequence_min_iter=6', '--lda_sequence_max_iter=20', '--top_chain_var=0.005', '--rng_seed=0']\n"
     ]
    },
    {
     "name": "stdout",
     "output_type": "stream",
     "text": [
      "\n",
      "8 time periods took: 11.4318170547 seconds."
     ]
    },
    {
     "name": "stderr",
     "output_type": "stream",
     "text": [
      "INFO:gensim.corpora.dictionary:adding document #0 to Dictionary(0 unique tokens: [])\n",
      "INFO:gensim.corpora.dictionary:built Dictionary(1741 unique tokens: [u'helical', u'magnetic', u'yellow', u'circuitry', u'whose']...) from 99 documents (total 7099 corpus positions)\n",
      "INFO:gensim.models.wrappers.dtmmodel:serializing temporary corpus to /var/folders/ym/v3by8lmd2bx3jpygmrlfq00m0000gn/T/c17ef6_train-mult.dat\n",
      "INFO:gensim.corpora.bleicorpus:no word id mapping provided; initializing from corpus\n",
      "INFO:gensim.corpora.bleicorpus:storing corpus in Blei's LDA-C format into /var/folders/ym/v3by8lmd2bx3jpygmrlfq00m0000gn/T/c17ef6_train-mult.dat\n",
      "INFO:gensim.corpora.bleicorpus:saving vocabulary of 1741 words to /var/folders/ym/v3by8lmd2bx3jpygmrlfq00m0000gn/T/c17ef6_train-mult.dat.vocab\n",
      "INFO:gensim.models.wrappers.dtmmodel:training DTM with args --ntopics=5 --model=dtm  --mode=fit --initialize_lda=true --corpus_prefix=/var/folders/ym/v3by8lmd2bx3jpygmrlfq00m0000gn/T/c17ef6_train --outname=/var/folders/ym/v3by8lmd2bx3jpygmrlfq00m0000gn/T/c17ef6_train_out --alpha=0.01 --lda_max_em_iter=10 --lda_sequence_min_iter=6  --lda_sequence_max_iter=20 --top_chain_var=0.005 --rng_seed=0 \n",
      "INFO:gensim.models.wrappers.dtmmodel:Running command ['dtm-master/bin/dtm-darwin64', '--ntopics=5', '--model=dtm', '--mode=fit', '--initialize_lda=true', '--corpus_prefix=/var/folders/ym/v3by8lmd2bx3jpygmrlfq00m0000gn/T/c17ef6_train', '--outname=/var/folders/ym/v3by8lmd2bx3jpygmrlfq00m0000gn/T/c17ef6_train_out', '--alpha=0.01', '--lda_max_em_iter=10', '--lda_sequence_min_iter=6', '--lda_sequence_max_iter=20', '--top_chain_var=0.005', '--rng_seed=0']\n"
     ]
    },
    {
     "name": "stdout",
     "output_type": "stream",
     "text": [
      "\n",
      "9 time periods took: 14.0486268997 seconds."
     ]
    },
    {
     "name": "stderr",
     "output_type": "stream",
     "text": [
      "INFO:gensim.corpora.dictionary:adding document #0 to Dictionary(0 unique tokens: [])\n",
      "INFO:gensim.corpora.dictionary:built Dictionary(1746 unique tokens: [u'helical', u'magnetic', u'yellow', u'circuitry', u'whose']...) from 100 documents (total 7140 corpus positions)\n",
      "INFO:gensim.models.wrappers.dtmmodel:serializing temporary corpus to /var/folders/ym/v3by8lmd2bx3jpygmrlfq00m0000gn/T/8ca234_train-mult.dat\n",
      "INFO:gensim.corpora.bleicorpus:no word id mapping provided; initializing from corpus\n",
      "INFO:gensim.corpora.bleicorpus:storing corpus in Blei's LDA-C format into /var/folders/ym/v3by8lmd2bx3jpygmrlfq00m0000gn/T/8ca234_train-mult.dat\n",
      "INFO:gensim.corpora.bleicorpus:saving vocabulary of 1746 words to /var/folders/ym/v3by8lmd2bx3jpygmrlfq00m0000gn/T/8ca234_train-mult.dat.vocab\n",
      "INFO:gensim.models.wrappers.dtmmodel:training DTM with args --ntopics=5 --model=dtm  --mode=fit --initialize_lda=true --corpus_prefix=/var/folders/ym/v3by8lmd2bx3jpygmrlfq00m0000gn/T/8ca234_train --outname=/var/folders/ym/v3by8lmd2bx3jpygmrlfq00m0000gn/T/8ca234_train_out --alpha=0.01 --lda_max_em_iter=10 --lda_sequence_min_iter=6  --lda_sequence_max_iter=20 --top_chain_var=0.005 --rng_seed=0 \n",
      "INFO:gensim.models.wrappers.dtmmodel:Running command ['dtm-master/bin/dtm-darwin64', '--ntopics=5', '--model=dtm', '--mode=fit', '--initialize_lda=true', '--corpus_prefix=/var/folders/ym/v3by8lmd2bx3jpygmrlfq00m0000gn/T/8ca234_train', '--outname=/var/folders/ym/v3by8lmd2bx3jpygmrlfq00m0000gn/T/8ca234_train_out', '--alpha=0.01', '--lda_max_em_iter=10', '--lda_sequence_min_iter=6', '--lda_sequence_max_iter=20', '--top_chain_var=0.005', '--rng_seed=0']\n"
     ]
    },
    {
     "name": "stdout",
     "output_type": "stream",
     "text": [
      "\n",
      "10 time periods took: 22.2250471115 seconds."
     ]
    },
    {
     "name": "stderr",
     "output_type": "stream",
     "text": [
      "INFO:gensim.corpora.dictionary:adding document #0 to Dictionary(0 unique tokens: [])\n",
      "INFO:gensim.corpora.dictionary:built Dictionary(1741 unique tokens: [u'helical', u'magnetic', u'yellow', u'circuitry', u'whose']...) from 99 documents (total 7099 corpus positions)\n",
      "INFO:gensim.models.wrappers.dtmmodel:serializing temporary corpus to /var/folders/ym/v3by8lmd2bx3jpygmrlfq00m0000gn/T/6fb554_train-mult.dat\n",
      "INFO:gensim.corpora.bleicorpus:no word id mapping provided; initializing from corpus\n",
      "INFO:gensim.corpora.bleicorpus:storing corpus in Blei's LDA-C format into /var/folders/ym/v3by8lmd2bx3jpygmrlfq00m0000gn/T/6fb554_train-mult.dat\n",
      "INFO:gensim.corpora.bleicorpus:saving vocabulary of 1741 words to /var/folders/ym/v3by8lmd2bx3jpygmrlfq00m0000gn/T/6fb554_train-mult.dat.vocab\n",
      "INFO:gensim.models.wrappers.dtmmodel:training DTM with args --ntopics=5 --model=dtm  --mode=fit --initialize_lda=true --corpus_prefix=/var/folders/ym/v3by8lmd2bx3jpygmrlfq00m0000gn/T/6fb554_train --outname=/var/folders/ym/v3by8lmd2bx3jpygmrlfq00m0000gn/T/6fb554_train_out --alpha=0.01 --lda_max_em_iter=10 --lda_sequence_min_iter=6  --lda_sequence_max_iter=20 --top_chain_var=0.005 --rng_seed=0 \n",
      "INFO:gensim.models.wrappers.dtmmodel:Running command ['dtm-master/bin/dtm-darwin64', '--ntopics=5', '--model=dtm', '--mode=fit', '--initialize_lda=true', '--corpus_prefix=/var/folders/ym/v3by8lmd2bx3jpygmrlfq00m0000gn/T/6fb554_train', '--outname=/var/folders/ym/v3by8lmd2bx3jpygmrlfq00m0000gn/T/6fb554_train_out', '--alpha=0.01', '--lda_max_em_iter=10', '--lda_sequence_min_iter=6', '--lda_sequence_max_iter=20', '--top_chain_var=0.005', '--rng_seed=0']\n"
     ]
    },
    {
     "name": "stdout",
     "output_type": "stream",
     "text": [
      "\n",
      "11 time periods took: 18.0523798466 seconds."
     ]
    },
    {
     "name": "stderr",
     "output_type": "stream",
     "text": [
      "INFO:gensim.corpora.dictionary:adding document #0 to Dictionary(0 unique tokens: [])\n",
      "INFO:gensim.corpora.dictionary:built Dictionary(1717 unique tokens: [u'helical', u'magnetic', u'yellow', u'circuitry', u'whose']...) from 96 documents (total 6705 corpus positions)\n",
      "INFO:gensim.models.wrappers.dtmmodel:serializing temporary corpus to /var/folders/ym/v3by8lmd2bx3jpygmrlfq00m0000gn/T/27db5_train-mult.dat\n",
      "INFO:gensim.corpora.bleicorpus:no word id mapping provided; initializing from corpus\n",
      "INFO:gensim.corpora.bleicorpus:storing corpus in Blei's LDA-C format into /var/folders/ym/v3by8lmd2bx3jpygmrlfq00m0000gn/T/27db5_train-mult.dat\n",
      "INFO:gensim.corpora.bleicorpus:saving vocabulary of 1717 words to /var/folders/ym/v3by8lmd2bx3jpygmrlfq00m0000gn/T/27db5_train-mult.dat.vocab\n",
      "INFO:gensim.models.wrappers.dtmmodel:training DTM with args --ntopics=5 --model=dtm  --mode=fit --initialize_lda=true --corpus_prefix=/var/folders/ym/v3by8lmd2bx3jpygmrlfq00m0000gn/T/27db5_train --outname=/var/folders/ym/v3by8lmd2bx3jpygmrlfq00m0000gn/T/27db5_train_out --alpha=0.01 --lda_max_em_iter=10 --lda_sequence_min_iter=6  --lda_sequence_max_iter=20 --top_chain_var=0.005 --rng_seed=0 \n",
      "INFO:gensim.models.wrappers.dtmmodel:Running command ['dtm-master/bin/dtm-darwin64', '--ntopics=5', '--model=dtm', '--mode=fit', '--initialize_lda=true', '--corpus_prefix=/var/folders/ym/v3by8lmd2bx3jpygmrlfq00m0000gn/T/27db5_train', '--outname=/var/folders/ym/v3by8lmd2bx3jpygmrlfq00m0000gn/T/27db5_train_out', '--alpha=0.01', '--lda_max_em_iter=10', '--lda_sequence_min_iter=6', '--lda_sequence_max_iter=20', '--top_chain_var=0.005', '--rng_seed=0']\n"
     ]
    },
    {
     "name": "stdout",
     "output_type": "stream",
     "text": [
      "\n",
      "12 time periods took: 19.2001178265 seconds."
     ]
    },
    {
     "name": "stderr",
     "output_type": "stream",
     "text": [
      "INFO:gensim.corpora.dictionary:adding document #0 to Dictionary(0 unique tokens: [])\n",
      "INFO:gensim.corpora.dictionary:built Dictionary(1657 unique tokens: [u'helical', u'magnetic', u'yellow', u'circuitry', u'whose']...) from 91 documents (total 6255 corpus positions)\n",
      "INFO:gensim.models.wrappers.dtmmodel:serializing temporary corpus to /var/folders/ym/v3by8lmd2bx3jpygmrlfq00m0000gn/T/b84f1e_train-mult.dat\n",
      "INFO:gensim.corpora.bleicorpus:no word id mapping provided; initializing from corpus\n",
      "INFO:gensim.corpora.bleicorpus:storing corpus in Blei's LDA-C format into /var/folders/ym/v3by8lmd2bx3jpygmrlfq00m0000gn/T/b84f1e_train-mult.dat\n",
      "INFO:gensim.corpora.bleicorpus:saving vocabulary of 1657 words to /var/folders/ym/v3by8lmd2bx3jpygmrlfq00m0000gn/T/b84f1e_train-mult.dat.vocab\n",
      "INFO:gensim.models.wrappers.dtmmodel:training DTM with args --ntopics=5 --model=dtm  --mode=fit --initialize_lda=true --corpus_prefix=/var/folders/ym/v3by8lmd2bx3jpygmrlfq00m0000gn/T/b84f1e_train --outname=/var/folders/ym/v3by8lmd2bx3jpygmrlfq00m0000gn/T/b84f1e_train_out --alpha=0.01 --lda_max_em_iter=10 --lda_sequence_min_iter=6  --lda_sequence_max_iter=20 --top_chain_var=0.005 --rng_seed=0 \n",
      "INFO:gensim.models.wrappers.dtmmodel:Running command ['dtm-master/bin/dtm-darwin64', '--ntopics=5', '--model=dtm', '--mode=fit', '--initialize_lda=true', '--corpus_prefix=/var/folders/ym/v3by8lmd2bx3jpygmrlfq00m0000gn/T/b84f1e_train', '--outname=/var/folders/ym/v3by8lmd2bx3jpygmrlfq00m0000gn/T/b84f1e_train_out', '--alpha=0.01', '--lda_max_em_iter=10', '--lda_sequence_min_iter=6', '--lda_sequence_max_iter=20', '--top_chain_var=0.005', '--rng_seed=0']\n"
     ]
    },
    {
     "name": "stdout",
     "output_type": "stream",
     "text": [
      "\n",
      "13 time periods took: 20.0541908741 seconds."
     ]
    },
    {
     "name": "stderr",
     "output_type": "stream",
     "text": [
      "INFO:gensim.corpora.dictionary:adding document #0 to Dictionary(0 unique tokens: [])\n",
      "INFO:gensim.corpora.dictionary:built Dictionary(1732 unique tokens: [u'helical', u'magnetic', u'yellow', u'circuitry', u'whose']...) from 98 documents (total 6957 corpus positions)\n",
      "INFO:gensim.models.wrappers.dtmmodel:serializing temporary corpus to /var/folders/ym/v3by8lmd2bx3jpygmrlfq00m0000gn/T/e44d19_train-mult.dat\n",
      "INFO:gensim.corpora.bleicorpus:no word id mapping provided; initializing from corpus\n",
      "INFO:gensim.corpora.bleicorpus:storing corpus in Blei's LDA-C format into /var/folders/ym/v3by8lmd2bx3jpygmrlfq00m0000gn/T/e44d19_train-mult.dat\n",
      "INFO:gensim.corpora.bleicorpus:saving vocabulary of 1732 words to /var/folders/ym/v3by8lmd2bx3jpygmrlfq00m0000gn/T/e44d19_train-mult.dat.vocab\n",
      "INFO:gensim.models.wrappers.dtmmodel:training DTM with args --ntopics=5 --model=dtm  --mode=fit --initialize_lda=true --corpus_prefix=/var/folders/ym/v3by8lmd2bx3jpygmrlfq00m0000gn/T/e44d19_train --outname=/var/folders/ym/v3by8lmd2bx3jpygmrlfq00m0000gn/T/e44d19_train_out --alpha=0.01 --lda_max_em_iter=10 --lda_sequence_min_iter=6  --lda_sequence_max_iter=20 --top_chain_var=0.005 --rng_seed=0 \n",
      "INFO:gensim.models.wrappers.dtmmodel:Running command ['dtm-master/bin/dtm-darwin64', '--ntopics=5', '--model=dtm', '--mode=fit', '--initialize_lda=true', '--corpus_prefix=/var/folders/ym/v3by8lmd2bx3jpygmrlfq00m0000gn/T/e44d19_train', '--outname=/var/folders/ym/v3by8lmd2bx3jpygmrlfq00m0000gn/T/e44d19_train_out', '--alpha=0.01', '--lda_max_em_iter=10', '--lda_sequence_min_iter=6', '--lda_sequence_max_iter=20', '--top_chain_var=0.005', '--rng_seed=0']\n"
     ]
    },
    {
     "name": "stdout",
     "output_type": "stream",
     "text": [
      "\n",
      "14 time periods took: 23.0349359512 seconds."
     ]
    },
    {
     "name": "stderr",
     "output_type": "stream",
     "text": [
      "INFO:gensim.corpora.dictionary:adding document #0 to Dictionary(0 unique tokens: [])\n",
      "INFO:gensim.corpora.dictionary:built Dictionary(1646 unique tokens: [u'helical', u'magnetic', u'yellow', u'circuitry', u'whose']...) from 90 documents (total 6187 corpus positions)\n",
      "INFO:gensim.models.wrappers.dtmmodel:serializing temporary corpus to /var/folders/ym/v3by8lmd2bx3jpygmrlfq00m0000gn/T/f90d55_train-mult.dat\n",
      "INFO:gensim.corpora.bleicorpus:no word id mapping provided; initializing from corpus\n",
      "INFO:gensim.corpora.bleicorpus:storing corpus in Blei's LDA-C format into /var/folders/ym/v3by8lmd2bx3jpygmrlfq00m0000gn/T/f90d55_train-mult.dat\n",
      "INFO:gensim.corpora.bleicorpus:saving vocabulary of 1646 words to /var/folders/ym/v3by8lmd2bx3jpygmrlfq00m0000gn/T/f90d55_train-mult.dat.vocab\n",
      "INFO:gensim.models.wrappers.dtmmodel:training DTM with args --ntopics=5 --model=dtm  --mode=fit --initialize_lda=true --corpus_prefix=/var/folders/ym/v3by8lmd2bx3jpygmrlfq00m0000gn/T/f90d55_train --outname=/var/folders/ym/v3by8lmd2bx3jpygmrlfq00m0000gn/T/f90d55_train_out --alpha=0.01 --lda_max_em_iter=10 --lda_sequence_min_iter=6  --lda_sequence_max_iter=20 --top_chain_var=0.005 --rng_seed=0 \n",
      "INFO:gensim.models.wrappers.dtmmodel:Running command ['dtm-master/bin/dtm-darwin64', '--ntopics=5', '--model=dtm', '--mode=fit', '--initialize_lda=true', '--corpus_prefix=/var/folders/ym/v3by8lmd2bx3jpygmrlfq00m0000gn/T/f90d55_train', '--outname=/var/folders/ym/v3by8lmd2bx3jpygmrlfq00m0000gn/T/f90d55_train_out', '--alpha=0.01', '--lda_max_em_iter=10', '--lda_sequence_min_iter=6', '--lda_sequence_max_iter=20', '--top_chain_var=0.005', '--rng_seed=0']\n"
     ]
    },
    {
     "name": "stdout",
     "output_type": "stream",
     "text": [
      "\n",
      "15 time periods took: 28.2628409863 seconds."
     ]
    },
    {
     "name": "stderr",
     "output_type": "stream",
     "text": [
      "INFO:gensim.corpora.dictionary:adding document #0 to Dictionary(0 unique tokens: [])\n",
      "INFO:gensim.corpora.dictionary:built Dictionary(1717 unique tokens: [u'helical', u'magnetic', u'yellow', u'circuitry', u'whose']...) from 96 documents (total 6705 corpus positions)\n",
      "INFO:gensim.models.wrappers.dtmmodel:serializing temporary corpus to /var/folders/ym/v3by8lmd2bx3jpygmrlfq00m0000gn/T/f055e0_train-mult.dat\n",
      "INFO:gensim.corpora.bleicorpus:no word id mapping provided; initializing from corpus\n",
      "INFO:gensim.corpora.bleicorpus:storing corpus in Blei's LDA-C format into /var/folders/ym/v3by8lmd2bx3jpygmrlfq00m0000gn/T/f055e0_train-mult.dat\n",
      "INFO:gensim.corpora.bleicorpus:saving vocabulary of 1717 words to /var/folders/ym/v3by8lmd2bx3jpygmrlfq00m0000gn/T/f055e0_train-mult.dat.vocab\n",
      "INFO:gensim.models.wrappers.dtmmodel:training DTM with args --ntopics=5 --model=dtm  --mode=fit --initialize_lda=true --corpus_prefix=/var/folders/ym/v3by8lmd2bx3jpygmrlfq00m0000gn/T/f055e0_train --outname=/var/folders/ym/v3by8lmd2bx3jpygmrlfq00m0000gn/T/f055e0_train_out --alpha=0.01 --lda_max_em_iter=10 --lda_sequence_min_iter=6  --lda_sequence_max_iter=20 --top_chain_var=0.005 --rng_seed=0 \n",
      "INFO:gensim.models.wrappers.dtmmodel:Running command ['dtm-master/bin/dtm-darwin64', '--ntopics=5', '--model=dtm', '--mode=fit', '--initialize_lda=true', '--corpus_prefix=/var/folders/ym/v3by8lmd2bx3jpygmrlfq00m0000gn/T/f055e0_train', '--outname=/var/folders/ym/v3by8lmd2bx3jpygmrlfq00m0000gn/T/f055e0_train_out', '--alpha=0.01', '--lda_max_em_iter=10', '--lda_sequence_min_iter=6', '--lda_sequence_max_iter=20', '--top_chain_var=0.005', '--rng_seed=0']\n"
     ]
    },
    {
     "name": "stdout",
     "output_type": "stream",
     "text": [
      "\n",
      "16 time periods took: 37.0440330505 seconds."
     ]
    },
    {
     "name": "stderr",
     "output_type": "stream",
     "text": [
      "INFO:gensim.corpora.dictionary:adding document #0 to Dictionary(0 unique tokens: [])\n",
      "INFO:gensim.corpora.dictionary:built Dictionary(1592 unique tokens: [u'helical', u'magnetic', u'yellow', u'circuitry', u'whose']...) from 85 documents (total 5873 corpus positions)\n",
      "INFO:gensim.models.wrappers.dtmmodel:serializing temporary corpus to /var/folders/ym/v3by8lmd2bx3jpygmrlfq00m0000gn/T/96ebd1_train-mult.dat\n",
      "INFO:gensim.corpora.bleicorpus:no word id mapping provided; initializing from corpus\n",
      "INFO:gensim.corpora.bleicorpus:storing corpus in Blei's LDA-C format into /var/folders/ym/v3by8lmd2bx3jpygmrlfq00m0000gn/T/96ebd1_train-mult.dat\n",
      "INFO:gensim.corpora.bleicorpus:saving vocabulary of 1592 words to /var/folders/ym/v3by8lmd2bx3jpygmrlfq00m0000gn/T/96ebd1_train-mult.dat.vocab\n",
      "INFO:gensim.models.wrappers.dtmmodel:training DTM with args --ntopics=5 --model=dtm  --mode=fit --initialize_lda=true --corpus_prefix=/var/folders/ym/v3by8lmd2bx3jpygmrlfq00m0000gn/T/96ebd1_train --outname=/var/folders/ym/v3by8lmd2bx3jpygmrlfq00m0000gn/T/96ebd1_train_out --alpha=0.01 --lda_max_em_iter=10 --lda_sequence_min_iter=6  --lda_sequence_max_iter=20 --top_chain_var=0.005 --rng_seed=0 \n",
      "INFO:gensim.models.wrappers.dtmmodel:Running command ['dtm-master/bin/dtm-darwin64', '--ntopics=5', '--model=dtm', '--mode=fit', '--initialize_lda=true', '--corpus_prefix=/var/folders/ym/v3by8lmd2bx3jpygmrlfq00m0000gn/T/96ebd1_train', '--outname=/var/folders/ym/v3by8lmd2bx3jpygmrlfq00m0000gn/T/96ebd1_train_out', '--alpha=0.01', '--lda_max_em_iter=10', '--lda_sequence_min_iter=6', '--lda_sequence_max_iter=20', '--top_chain_var=0.005', '--rng_seed=0']\n"
     ]
    },
    {
     "name": "stdout",
     "output_type": "stream",
     "text": [
      "\n",
      "17 time periods took: 28.7371919155 seconds."
     ]
    },
    {
     "name": "stderr",
     "output_type": "stream",
     "text": [
      "INFO:gensim.corpora.dictionary:adding document #0 to Dictionary(0 unique tokens: [])\n",
      "INFO:gensim.corpora.dictionary:built Dictionary(1646 unique tokens: [u'helical', u'magnetic', u'yellow', u'circuitry', u'whose']...) from 90 documents (total 6187 corpus positions)\n",
      "INFO:gensim.models.wrappers.dtmmodel:serializing temporary corpus to /var/folders/ym/v3by8lmd2bx3jpygmrlfq00m0000gn/T/d3d244_train-mult.dat\n",
      "INFO:gensim.corpora.bleicorpus:no word id mapping provided; initializing from corpus\n",
      "INFO:gensim.corpora.bleicorpus:storing corpus in Blei's LDA-C format into /var/folders/ym/v3by8lmd2bx3jpygmrlfq00m0000gn/T/d3d244_train-mult.dat\n",
      "INFO:gensim.corpora.bleicorpus:saving vocabulary of 1646 words to /var/folders/ym/v3by8lmd2bx3jpygmrlfq00m0000gn/T/d3d244_train-mult.dat.vocab\n",
      "INFO:gensim.models.wrappers.dtmmodel:training DTM with args --ntopics=5 --model=dtm  --mode=fit --initialize_lda=true --corpus_prefix=/var/folders/ym/v3by8lmd2bx3jpygmrlfq00m0000gn/T/d3d244_train --outname=/var/folders/ym/v3by8lmd2bx3jpygmrlfq00m0000gn/T/d3d244_train_out --alpha=0.01 --lda_max_em_iter=10 --lda_sequence_min_iter=6  --lda_sequence_max_iter=20 --top_chain_var=0.005 --rng_seed=0 \n",
      "INFO:gensim.models.wrappers.dtmmodel:Running command ['dtm-master/bin/dtm-darwin64', '--ntopics=5', '--model=dtm', '--mode=fit', '--initialize_lda=true', '--corpus_prefix=/var/folders/ym/v3by8lmd2bx3jpygmrlfq00m0000gn/T/d3d244_train', '--outname=/var/folders/ym/v3by8lmd2bx3jpygmrlfq00m0000gn/T/d3d244_train_out', '--alpha=0.01', '--lda_max_em_iter=10', '--lda_sequence_min_iter=6', '--lda_sequence_max_iter=20', '--top_chain_var=0.005', '--rng_seed=0']\n"
     ]
    },
    {
     "name": "stdout",
     "output_type": "stream",
     "text": [
      "\n",
      "18 time periods took: 29.0659558773 seconds."
     ]
    },
    {
     "name": "stderr",
     "output_type": "stream",
     "text": [
      "INFO:gensim.corpora.dictionary:adding document #0 to Dictionary(0 unique tokens: [])\n",
      "INFO:gensim.corpora.dictionary:built Dictionary(1698 unique tokens: [u'helical', u'magnetic', u'yellow', u'circuitry', u'whose']...) from 95 documents (total 6629 corpus positions)\n",
      "INFO:gensim.models.wrappers.dtmmodel:serializing temporary corpus to /var/folders/ym/v3by8lmd2bx3jpygmrlfq00m0000gn/T/e29ab0_train-mult.dat\n",
      "INFO:gensim.corpora.bleicorpus:no word id mapping provided; initializing from corpus\n",
      "INFO:gensim.corpora.bleicorpus:storing corpus in Blei's LDA-C format into /var/folders/ym/v3by8lmd2bx3jpygmrlfq00m0000gn/T/e29ab0_train-mult.dat\n",
      "INFO:gensim.corpora.bleicorpus:saving vocabulary of 1698 words to /var/folders/ym/v3by8lmd2bx3jpygmrlfq00m0000gn/T/e29ab0_train-mult.dat.vocab\n",
      "INFO:gensim.models.wrappers.dtmmodel:training DTM with args --ntopics=5 --model=dtm  --mode=fit --initialize_lda=true --corpus_prefix=/var/folders/ym/v3by8lmd2bx3jpygmrlfq00m0000gn/T/e29ab0_train --outname=/var/folders/ym/v3by8lmd2bx3jpygmrlfq00m0000gn/T/e29ab0_train_out --alpha=0.01 --lda_max_em_iter=10 --lda_sequence_min_iter=6  --lda_sequence_max_iter=20 --top_chain_var=0.005 --rng_seed=0 \n",
      "INFO:gensim.models.wrappers.dtmmodel:Running command ['dtm-master/bin/dtm-darwin64', '--ntopics=5', '--model=dtm', '--mode=fit', '--initialize_lda=true', '--corpus_prefix=/var/folders/ym/v3by8lmd2bx3jpygmrlfq00m0000gn/T/e29ab0_train', '--outname=/var/folders/ym/v3by8lmd2bx3jpygmrlfq00m0000gn/T/e29ab0_train_out', '--alpha=0.01', '--lda_max_em_iter=10', '--lda_sequence_min_iter=6', '--lda_sequence_max_iter=20', '--top_chain_var=0.005', '--rng_seed=0']\n"
     ]
    },
    {
     "name": "stdout",
     "output_type": "stream",
     "text": [
      "\n",
      "19 time periods took: 34.3542330265 seconds.\n"
     ]
    }
   ],
   "source": [
    "n_tops = 5\n",
    "period_times = []\n",
    "for i in range(16):\n",
    "    time_seq = [np.floor(100/(4.0+i))]*(4+i)\n",
    "    n_docs = int(np.sum(time_seq))\n",
    "    corpus = DTMcorpus(documents[:n_docs])\n",
    "    \n",
    "    #while np.sum(time_seq) < n_docs:\n",
    "    #    time_seq[-1] += 1\n",
    "    t0 = time.time()\n",
    "    model = DtmModel(dtm_path,corpus,time_seq,num_topics=n_tops,id2word=corpus.dictionary,initialize_lda=True)\n",
    "    delta = time.time() - t0\n",
    "    period_times.append((n_docs,4+i,n_tops,delta))\n",
    "    \n",
    "    print \"{} time periods took: {} seconds.\".format(4+i,delta)\n",
    "period_times = np.array(period_times)\n",
    "\n",
    "# will throw an error if you give it a different number of documents at each time slice! Important!"
   ]
  },
  {
   "cell_type": "code",
   "execution_count": 61,
   "metadata": {
    "collapsed": false
   },
   "outputs": [
    {
     "data": {
      "image/png": "[encoded data removed]",
      "text/plain": [
       "<matplotlib.figure.Figure at 0x111aed410>"
      ]
     },
     "metadata": {},
     "output_type": "display_data"
    },
    {
     "name": "stdout",
     "output_type": "stream",
     "text": [
      "1.62795038356\n"
     ]
    }
   ],
   "source": [
    "plt.figure(figsize = (7,7))\n",
    "plt.plot(period_times[:,1],period_times[:,3])\n",
    "plt.xlabel(\"Num. Time Periods\")\n",
    "plt.ylabel(\"Time (sec.)\")\n",
    "plt.title(\"DTM Runtime vs Number of Time Periods\")\n",
    "plt.show()\n",
    "print np.median(period_times[:,3]/period_times[:,1]) # average slope\n",
    "# approximately .61 time periods/sec => 1.62 seconds pr new time period. (number of documents was kept approximately constant)\n",
    "# noise in line comes from difficulty ensuring the same total number of documents across rounds. "
   ]
  },
  {
   "cell_type": "code",
   "execution_count": 68,
   "metadata": {
    "collapsed": false,
    "scrolled": true
   },
   "outputs": [
    {
     "name": "stderr",
     "output_type": "stream",
     "text": [
      "INFO:gensim.corpora.dictionary:adding document #0 to Dictionary(0 unique tokens: [])\n",
      "INFO:gensim.corpora.dictionary:built Dictionary(1527 unique tokens: [u'helical', u'magnetic', u'yellow', u'circuitry', u'whose']...) from 80 documents (total 5537 corpus positions)\n",
      "INFO:gensim.models.wrappers.dtmmodel:serializing temporary corpus to /var/folders/ym/v3by8lmd2bx3jpygmrlfq00m0000gn/T/598299_train-mult.dat\n",
      "INFO:gensim.corpora.bleicorpus:no word id mapping provided; initializing from corpus\n",
      "INFO:gensim.corpora.bleicorpus:storing corpus in Blei's LDA-C format into /var/folders/ym/v3by8lmd2bx3jpygmrlfq00m0000gn/T/598299_train-mult.dat\n",
      "INFO:gensim.corpora.bleicorpus:saving vocabulary of 1527 words to /var/folders/ym/v3by8lmd2bx3jpygmrlfq00m0000gn/T/598299_train-mult.dat.vocab\n",
      "INFO:gensim.models.wrappers.dtmmodel:training DTM with args --ntopics=5 --model=dtm  --mode=fit --initialize_lda=true --corpus_prefix=/var/folders/ym/v3by8lmd2bx3jpygmrlfq00m0000gn/T/598299_train --outname=/var/folders/ym/v3by8lmd2bx3jpygmrlfq00m0000gn/T/598299_train_out --alpha=0.01 --lda_max_em_iter=10 --lda_sequence_min_iter=6  --lda_sequence_max_iter=20 --top_chain_var=0.005 --rng_seed=0 \n",
      "INFO:gensim.models.wrappers.dtmmodel:Running command ['dtm-master/bin/dtm-darwin64', '--ntopics=5', '--model=dtm', '--mode=fit', '--initialize_lda=true', '--corpus_prefix=/var/folders/ym/v3by8lmd2bx3jpygmrlfq00m0000gn/T/598299_train', '--outname=/var/folders/ym/v3by8lmd2bx3jpygmrlfq00m0000gn/T/598299_train_out', '--alpha=0.01', '--lda_max_em_iter=10', '--lda_sequence_min_iter=6', '--lda_sequence_max_iter=20', '--top_chain_var=0.005', '--rng_seed=0']\n",
      "INFO:gensim.corpora.dictionary:adding document #0 to Dictionary(0 unique tokens: [])\n",
      "INFO:gensim.corpora.dictionary:built Dictionary(1746 unique tokens: [u'helical', u'magnetic', u'yellow', u'circuitry', u'whose']...) from 100 documents (total 7140 corpus positions)\n",
      "INFO:gensim.models.wrappers.dtmmodel:serializing temporary corpus to /var/folders/ym/v3by8lmd2bx3jpygmrlfq00m0000gn/T/5e63ae_train-mult.dat\n",
      "INFO:gensim.corpora.bleicorpus:no word id mapping provided; initializing from corpus\n",
      "INFO:gensim.corpora.bleicorpus:storing corpus in Blei's LDA-C format into /var/folders/ym/v3by8lmd2bx3jpygmrlfq00m0000gn/T/5e63ae_train-mult.dat\n",
      "INFO:gensim.corpora.bleicorpus:saving vocabulary of 1746 words to /var/folders/ym/v3by8lmd2bx3jpygmrlfq00m0000gn/T/5e63ae_train-mult.dat.vocab\n",
      "INFO:gensim.models.wrappers.dtmmodel:training DTM with args --ntopics=5 --model=dtm  --mode=fit --initialize_lda=true --corpus_prefix=/var/folders/ym/v3by8lmd2bx3jpygmrlfq00m0000gn/T/5e63ae_train --outname=/var/folders/ym/v3by8lmd2bx3jpygmrlfq00m0000gn/T/5e63ae_train_out --alpha=0.01 --lda_max_em_iter=10 --lda_sequence_min_iter=6  --lda_sequence_max_iter=20 --top_chain_var=0.005 --rng_seed=0 \n",
      "INFO:gensim.models.wrappers.dtmmodel:Running command ['dtm-master/bin/dtm-darwin64', '--ntopics=5', '--model=dtm', '--mode=fit', '--initialize_lda=true', '--corpus_prefix=/var/folders/ym/v3by8lmd2bx3jpygmrlfq00m0000gn/T/5e63ae_train', '--outname=/var/folders/ym/v3by8lmd2bx3jpygmrlfq00m0000gn/T/5e63ae_train_out', '--alpha=0.01', '--lda_max_em_iter=10', '--lda_sequence_min_iter=6', '--lda_sequence_max_iter=20', '--top_chain_var=0.005', '--rng_seed=0']\n"
     ]
    },
    {
     "name": "stdout",
     "output_type": "stream",
     "text": [
      "4 time periods took: 5.34930419922 seconds.\n",
      "5 time periods took: 7.47433996201 seconds."
     ]
    },
    {
     "name": "stderr",
     "output_type": "stream",
     "text": [
      "INFO:gensim.corpora.dictionary:adding document #0 to Dictionary(0 unique tokens: [])\n",
      "INFO:gensim.corpora.dictionary:built Dictionary(1949 unique tokens: [u'represent', u'helical', u'magnetic', u'yellow', u'four']...) from 120 documents (total 8700 corpus positions)\n",
      "INFO:gensim.models.wrappers.dtmmodel:serializing temporary corpus to /var/folders/ym/v3by8lmd2bx3jpygmrlfq00m0000gn/T/c92fab_train-mult.dat\n",
      "INFO:gensim.corpora.bleicorpus:no word id mapping provided; initializing from corpus\n",
      "INFO:gensim.corpora.bleicorpus:storing corpus in Blei's LDA-C format into /var/folders/ym/v3by8lmd2bx3jpygmrlfq00m0000gn/T/c92fab_train-mult.dat\n",
      "INFO:gensim.corpora.bleicorpus:saving vocabulary of 1949 words to /var/folders/ym/v3by8lmd2bx3jpygmrlfq00m0000gn/T/c92fab_train-mult.dat.vocab\n",
      "INFO:gensim.models.wrappers.dtmmodel:training DTM with args --ntopics=5 --model=dtm  --mode=fit --initialize_lda=true --corpus_prefix=/var/folders/ym/v3by8lmd2bx3jpygmrlfq00m0000gn/T/c92fab_train --outname=/var/folders/ym/v3by8lmd2bx3jpygmrlfq00m0000gn/T/c92fab_train_out --alpha=0.01 --lda_max_em_iter=10 --lda_sequence_min_iter=6  --lda_sequence_max_iter=20 --top_chain_var=0.005 --rng_seed=0 \n",
      "INFO:gensim.models.wrappers.dtmmodel:Running command ['dtm-master/bin/dtm-darwin64', '--ntopics=5', '--model=dtm', '--mode=fit', '--initialize_lda=true', '--corpus_prefix=/var/folders/ym/v3by8lmd2bx3jpygmrlfq00m0000gn/T/c92fab_train', '--outname=/var/folders/ym/v3by8lmd2bx3jpygmrlfq00m0000gn/T/c92fab_train_out', '--alpha=0.01', '--lda_max_em_iter=10', '--lda_sequence_min_iter=6', '--lda_sequence_max_iter=20', '--top_chain_var=0.005', '--rng_seed=0']\n"
     ]
    },
    {
     "name": "stdout",
     "output_type": "stream",
     "text": [
      "\n",
      "6 time periods took: 10.3414740562 seconds."
     ]
    },
    {
     "name": "stderr",
     "output_type": "stream",
     "text": [
      "INFO:gensim.corpora.dictionary:adding document #0 to Dictionary(0 unique tokens: [])\n",
      "INFO:gensim.corpora.dictionary:built Dictionary(2134 unique tokens: [u'represent', u'helical', u'magnetic', u'yellow', u'four']...) from 140 documents (total 10122 corpus positions)\n",
      "INFO:gensim.models.wrappers.dtmmodel:serializing temporary corpus to /var/folders/ym/v3by8lmd2bx3jpygmrlfq00m0000gn/T/3f717_train-mult.dat\n",
      "INFO:gensim.corpora.bleicorpus:no word id mapping provided; initializing from corpus\n",
      "INFO:gensim.corpora.bleicorpus:storing corpus in Blei's LDA-C format into /var/folders/ym/v3by8lmd2bx3jpygmrlfq00m0000gn/T/3f717_train-mult.dat\n",
      "INFO:gensim.corpora.bleicorpus:saving vocabulary of 2134 words to /var/folders/ym/v3by8lmd2bx3jpygmrlfq00m0000gn/T/3f717_train-mult.dat.vocab\n",
      "INFO:gensim.models.wrappers.dtmmodel:training DTM with args --ntopics=5 --model=dtm  --mode=fit --initialize_lda=true --corpus_prefix=/var/folders/ym/v3by8lmd2bx3jpygmrlfq00m0000gn/T/3f717_train --outname=/var/folders/ym/v3by8lmd2bx3jpygmrlfq00m0000gn/T/3f717_train_out --alpha=0.01 --lda_max_em_iter=10 --lda_sequence_min_iter=6  --lda_sequence_max_iter=20 --top_chain_var=0.005 --rng_seed=0 \n",
      "INFO:gensim.models.wrappers.dtmmodel:Running command ['dtm-master/bin/dtm-darwin64', '--ntopics=5', '--model=dtm', '--mode=fit', '--initialize_lda=true', '--corpus_prefix=/var/folders/ym/v3by8lmd2bx3jpygmrlfq00m0000gn/T/3f717_train', '--outname=/var/folders/ym/v3by8lmd2bx3jpygmrlfq00m0000gn/T/3f717_train_out', '--alpha=0.01', '--lda_max_em_iter=10', '--lda_sequence_min_iter=6', '--lda_sequence_max_iter=20', '--top_chain_var=0.005', '--rng_seed=0']\n"
     ]
    },
    {
     "name": "stdout",
     "output_type": "stream",
     "text": [
      "\n",
      "7 time periods took: 13.6101050377 seconds."
     ]
    },
    {
     "name": "stderr",
     "output_type": "stream",
     "text": [
      "INFO:gensim.corpora.dictionary:adding document #0 to Dictionary(0 unique tokens: [])\n",
      "INFO:gensim.corpora.dictionary:built Dictionary(2303 unique tokens: [u'represent', u'helical', u'magnetic', u'yellow', u'four']...) from 160 documents (total 11470 corpus positions)\n",
      "INFO:gensim.models.wrappers.dtmmodel:serializing temporary corpus to /var/folders/ym/v3by8lmd2bx3jpygmrlfq00m0000gn/T/473d1d_train-mult.dat\n",
      "INFO:gensim.corpora.bleicorpus:no word id mapping provided; initializing from corpus\n",
      "INFO:gensim.corpora.bleicorpus:storing corpus in Blei's LDA-C format into /var/folders/ym/v3by8lmd2bx3jpygmrlfq00m0000gn/T/473d1d_train-mult.dat\n",
      "INFO:gensim.corpora.bleicorpus:saving vocabulary of 2303 words to /var/folders/ym/v3by8lmd2bx3jpygmrlfq00m0000gn/T/473d1d_train-mult.dat.vocab\n",
      "INFO:gensim.models.wrappers.dtmmodel:training DTM with args --ntopics=5 --model=dtm  --mode=fit --initialize_lda=true --corpus_prefix=/var/folders/ym/v3by8lmd2bx3jpygmrlfq00m0000gn/T/473d1d_train --outname=/var/folders/ym/v3by8lmd2bx3jpygmrlfq00m0000gn/T/473d1d_train_out --alpha=0.01 --lda_max_em_iter=10 --lda_sequence_min_iter=6  --lda_sequence_max_iter=20 --top_chain_var=0.005 --rng_seed=0 \n",
      "INFO:gensim.models.wrappers.dtmmodel:Running command ['dtm-master/bin/dtm-darwin64', '--ntopics=5', '--model=dtm', '--mode=fit', '--initialize_lda=true', '--corpus_prefix=/var/folders/ym/v3by8lmd2bx3jpygmrlfq00m0000gn/T/473d1d_train', '--outname=/var/folders/ym/v3by8lmd2bx3jpygmrlfq00m0000gn/T/473d1d_train_out', '--alpha=0.01', '--lda_max_em_iter=10', '--lda_sequence_min_iter=6', '--lda_sequence_max_iter=20', '--top_chain_var=0.005', '--rng_seed=0']\n"
     ]
    },
    {
     "name": "stdout",
     "output_type": "stream",
     "text": [
      "\n",
      "8 time periods took: 18.1515240669 seconds."
     ]
    },
    {
     "name": "stderr",
     "output_type": "stream",
     "text": [
      "INFO:gensim.corpora.dictionary:adding document #0 to Dictionary(0 unique tokens: [])\n",
      "INFO:gensim.corpora.dictionary:built Dictionary(2467 unique tokens: [u'represent', u'helical', u'magnetic', u'yellow', u'four']...) from 180 documents (total 13090 corpus positions)\n",
      "INFO:gensim.models.wrappers.dtmmodel:serializing temporary corpus to /var/folders/ym/v3by8lmd2bx3jpygmrlfq00m0000gn/T/a57ce1_train-mult.dat\n",
      "INFO:gensim.corpora.bleicorpus:no word id mapping provided; initializing from corpus\n",
      "INFO:gensim.corpora.bleicorpus:storing corpus in Blei's LDA-C format into /var/folders/ym/v3by8lmd2bx3jpygmrlfq00m0000gn/T/a57ce1_train-mult.dat\n",
      "INFO:gensim.corpora.bleicorpus:saving vocabulary of 2467 words to /var/folders/ym/v3by8lmd2bx3jpygmrlfq00m0000gn/T/a57ce1_train-mult.dat.vocab\n",
      "INFO:gensim.models.wrappers.dtmmodel:training DTM with args --ntopics=5 --model=dtm  --mode=fit --initialize_lda=true --corpus_prefix=/var/folders/ym/v3by8lmd2bx3jpygmrlfq00m0000gn/T/a57ce1_train --outname=/var/folders/ym/v3by8lmd2bx3jpygmrlfq00m0000gn/T/a57ce1_train_out --alpha=0.01 --lda_max_em_iter=10 --lda_sequence_min_iter=6  --lda_sequence_max_iter=20 --top_chain_var=0.005 --rng_seed=0 \n",
      "INFO:gensim.models.wrappers.dtmmodel:Running command ['dtm-master/bin/dtm-darwin64', '--ntopics=5', '--model=dtm', '--mode=fit', '--initialize_lda=true', '--corpus_prefix=/var/folders/ym/v3by8lmd2bx3jpygmrlfq00m0000gn/T/a57ce1_train', '--outname=/var/folders/ym/v3by8lmd2bx3jpygmrlfq00m0000gn/T/a57ce1_train_out', '--alpha=0.01', '--lda_max_em_iter=10', '--lda_sequence_min_iter=6', '--lda_sequence_max_iter=20', '--top_chain_var=0.005', '--rng_seed=0']\n"
     ]
    },
    {
     "name": "stdout",
     "output_type": "stream",
     "text": [
      "\n",
      "9 time periods took: 22.8161039352 seconds."
     ]
    },
    {
     "name": "stderr",
     "output_type": "stream",
     "text": [
      "INFO:gensim.corpora.dictionary:adding document #0 to Dictionary(0 unique tokens: [])\n",
      "INFO:gensim.corpora.dictionary:built Dictionary(2681 unique tokens: [u'represent', u'helical', u'magnetic', u'yellow', u'four']...) from 200 documents (total 14884 corpus positions)\n",
      "INFO:gensim.models.wrappers.dtmmodel:serializing temporary corpus to /var/folders/ym/v3by8lmd2bx3jpygmrlfq00m0000gn/T/59e554_train-mult.dat\n",
      "INFO:gensim.corpora.bleicorpus:no word id mapping provided; initializing from corpus\n",
      "INFO:gensim.corpora.bleicorpus:storing corpus in Blei's LDA-C format into /var/folders/ym/v3by8lmd2bx3jpygmrlfq00m0000gn/T/59e554_train-mult.dat\n",
      "INFO:gensim.corpora.bleicorpus:saving vocabulary of 2681 words to /var/folders/ym/v3by8lmd2bx3jpygmrlfq00m0000gn/T/59e554_train-mult.dat.vocab\n",
      "INFO:gensim.models.wrappers.dtmmodel:training DTM with args --ntopics=5 --model=dtm  --mode=fit --initialize_lda=true --corpus_prefix=/var/folders/ym/v3by8lmd2bx3jpygmrlfq00m0000gn/T/59e554_train --outname=/var/folders/ym/v3by8lmd2bx3jpygmrlfq00m0000gn/T/59e554_train_out --alpha=0.01 --lda_max_em_iter=10 --lda_sequence_min_iter=6  --lda_sequence_max_iter=20 --top_chain_var=0.005 --rng_seed=0 \n",
      "INFO:gensim.models.wrappers.dtmmodel:Running command ['dtm-master/bin/dtm-darwin64', '--ntopics=5', '--model=dtm', '--mode=fit', '--initialize_lda=true', '--corpus_prefix=/var/folders/ym/v3by8lmd2bx3jpygmrlfq00m0000gn/T/59e554_train', '--outname=/var/folders/ym/v3by8lmd2bx3jpygmrlfq00m0000gn/T/59e554_train_out', '--alpha=0.01', '--lda_max_em_iter=10', '--lda_sequence_min_iter=6', '--lda_sequence_max_iter=20', '--top_chain_var=0.005', '--rng_seed=0']\n"
     ]
    },
    {
     "name": "stdout",
     "output_type": "stream",
     "text": [
      "\n",
      "10 time periods took: 27.89113307 seconds."
     ]
    },
    {
     "name": "stderr",
     "output_type": "stream",
     "text": [
      "INFO:gensim.corpora.dictionary:adding document #0 to Dictionary(0 unique tokens: [])\n",
      "INFO:gensim.corpora.dictionary:built Dictionary(2850 unique tokens: [u'represent', u'helical', u'magnetic', u'dynamic', u'yellow']...) from 220 documents (total 16390 corpus positions)\n",
      "INFO:gensim.models.wrappers.dtmmodel:serializing temporary corpus to /var/folders/ym/v3by8lmd2bx3jpygmrlfq00m0000gn/T/69925a_train-mult.dat\n",
      "INFO:gensim.corpora.bleicorpus:no word id mapping provided; initializing from corpus\n",
      "INFO:gensim.corpora.bleicorpus:storing corpus in Blei's LDA-C format into /var/folders/ym/v3by8lmd2bx3jpygmrlfq00m0000gn/T/69925a_train-mult.dat\n",
      "INFO:gensim.corpora.bleicorpus:saving vocabulary of 2850 words to /var/folders/ym/v3by8lmd2bx3jpygmrlfq00m0000gn/T/69925a_train-mult.dat.vocab\n",
      "INFO:gensim.models.wrappers.dtmmodel:training DTM with args --ntopics=5 --model=dtm  --mode=fit --initialize_lda=true --corpus_prefix=/var/folders/ym/v3by8lmd2bx3jpygmrlfq00m0000gn/T/69925a_train --outname=/var/folders/ym/v3by8lmd2bx3jpygmrlfq00m0000gn/T/69925a_train_out --alpha=0.01 --lda_max_em_iter=10 --lda_sequence_min_iter=6  --lda_sequence_max_iter=20 --top_chain_var=0.005 --rng_seed=0 \n",
      "INFO:gensim.models.wrappers.dtmmodel:Running command ['dtm-master/bin/dtm-darwin64', '--ntopics=5', '--model=dtm', '--mode=fit', '--initialize_lda=true', '--corpus_prefix=/var/folders/ym/v3by8lmd2bx3jpygmrlfq00m0000gn/T/69925a_train', '--outname=/var/folders/ym/v3by8lmd2bx3jpygmrlfq00m0000gn/T/69925a_train_out', '--alpha=0.01', '--lda_max_em_iter=10', '--lda_sequence_min_iter=6', '--lda_sequence_max_iter=20', '--top_chain_var=0.005', '--rng_seed=0']\n"
     ]
    },
    {
     "name": "stdout",
     "output_type": "stream",
     "text": [
      "\n",
      "11 time periods took: 41.3650360107 seconds."
     ]
    },
    {
     "name": "stderr",
     "output_type": "stream",
     "text": [
      "INFO:gensim.corpora.dictionary:adding document #0 to Dictionary(0 unique tokens: [])\n",
      "INFO:gensim.corpora.dictionary:built Dictionary(2992 unique tokens: [u'represent', u'helical', u'magnetic', u'dynamic', u'yellow']...) from 240 documents (total 17920 corpus positions)\n",
      "INFO:gensim.models.wrappers.dtmmodel:serializing temporary corpus to /var/folders/ym/v3by8lmd2bx3jpygmrlfq00m0000gn/T/72e374_train-mult.dat\n",
      "INFO:gensim.corpora.bleicorpus:no word id mapping provided; initializing from corpus\n",
      "INFO:gensim.corpora.bleicorpus:storing corpus in Blei's LDA-C format into /var/folders/ym/v3by8lmd2bx3jpygmrlfq00m0000gn/T/72e374_train-mult.dat\n",
      "INFO:gensim.corpora.bleicorpus:saving vocabulary of 2992 words to /var/folders/ym/v3by8lmd2bx3jpygmrlfq00m0000gn/T/72e374_train-mult.dat.vocab\n",
      "INFO:gensim.models.wrappers.dtmmodel:training DTM with args --ntopics=5 --model=dtm  --mode=fit --initialize_lda=true --corpus_prefix=/var/folders/ym/v3by8lmd2bx3jpygmrlfq00m0000gn/T/72e374_train --outname=/var/folders/ym/v3by8lmd2bx3jpygmrlfq00m0000gn/T/72e374_train_out --alpha=0.01 --lda_max_em_iter=10 --lda_sequence_min_iter=6  --lda_sequence_max_iter=20 --top_chain_var=0.005 --rng_seed=0 \n",
      "INFO:gensim.models.wrappers.dtmmodel:Running command ['dtm-master/bin/dtm-darwin64', '--ntopics=5', '--model=dtm', '--mode=fit', '--initialize_lda=true', '--corpus_prefix=/var/folders/ym/v3by8lmd2bx3jpygmrlfq00m0000gn/T/72e374_train', '--outname=/var/folders/ym/v3by8lmd2bx3jpygmrlfq00m0000gn/T/72e374_train_out', '--alpha=0.01', '--lda_max_em_iter=10', '--lda_sequence_min_iter=6', '--lda_sequence_max_iter=20', '--top_chain_var=0.005', '--rng_seed=0']\n"
     ]
    },
    {
     "name": "stdout",
     "output_type": "stream",
     "text": [
      "\n",
      "12 time periods took: 75.5713999271 seconds."
     ]
    },
    {
     "name": "stderr",
     "output_type": "stream",
     "text": [
      "INFO:gensim.corpora.dictionary:adding document #0 to Dictionary(0 unique tokens: [])\n",
      "INFO:gensim.corpora.dictionary:built Dictionary(3111 unique tokens: [u'represent', u'helical', u'magnetic', u'dynamic', u'yellow']...) from 260 documents (total 19276 corpus positions)\n",
      "INFO:gensim.models.wrappers.dtmmodel:serializing temporary corpus to /var/folders/ym/v3by8lmd2bx3jpygmrlfq00m0000gn/T/59d5d4_train-mult.dat\n",
      "INFO:gensim.corpora.bleicorpus:no word id mapping provided; initializing from corpus\n",
      "INFO:gensim.corpora.bleicorpus:storing corpus in Blei's LDA-C format into /var/folders/ym/v3by8lmd2bx3jpygmrlfq00m0000gn/T/59d5d4_train-mult.dat\n",
      "INFO:gensim.corpora.bleicorpus:saving vocabulary of 3111 words to /var/folders/ym/v3by8lmd2bx3jpygmrlfq00m0000gn/T/59d5d4_train-mult.dat.vocab\n",
      "INFO:gensim.models.wrappers.dtmmodel:training DTM with args --ntopics=5 --model=dtm  --mode=fit --initialize_lda=true --corpus_prefix=/var/folders/ym/v3by8lmd2bx3jpygmrlfq00m0000gn/T/59d5d4_train --outname=/var/folders/ym/v3by8lmd2bx3jpygmrlfq00m0000gn/T/59d5d4_train_out --alpha=0.01 --lda_max_em_iter=10 --lda_sequence_min_iter=6  --lda_sequence_max_iter=20 --top_chain_var=0.005 --rng_seed=0 \n",
      "INFO:gensim.models.wrappers.dtmmodel:Running command ['dtm-master/bin/dtm-darwin64', '--ntopics=5', '--model=dtm', '--mode=fit', '--initialize_lda=true', '--corpus_prefix=/var/folders/ym/v3by8lmd2bx3jpygmrlfq00m0000gn/T/59d5d4_train', '--outname=/var/folders/ym/v3by8lmd2bx3jpygmrlfq00m0000gn/T/59d5d4_train_out', '--alpha=0.01', '--lda_max_em_iter=10', '--lda_sequence_min_iter=6', '--lda_sequence_max_iter=20', '--top_chain_var=0.005', '--rng_seed=0']\n"
     ]
    },
    {
     "name": "stdout",
     "output_type": "stream",
     "text": [
      "\n",
      "13 time periods took: 62.5043888092 seconds.\n"
     ]
    }
   ],
   "source": [
    "n_tops = 5\n",
    "period_times = []\n",
    "for i in range(10):\n",
    "    time_seq = [20]*(4+i)\n",
    "    n_docs = np.sum(time_seq)\n",
    "    corpus = DTMcorpus(documents[:n_docs])\n",
    "\n",
    "    t0 = time.time()\n",
    "    model = DtmModel(dtm_path,corpus,time_seq,num_topics=n_tops,id2word=corpus.dictionary,initialize_lda=True)\n",
    "    delta = time.time() - t0\n",
    "    period_times.append((n_docs,4+i,n_tops,delta))\n",
    "    \n",
    "    print \"{} time periods took: {} seconds.\".format(4+i,delta)\n",
    "period_times = np.array(period_times)"
   ]
  },
  {
   "cell_type": "code",
   "execution_count": 73,
   "metadata": {
    "collapsed": false
   },
   "outputs": [
    {
     "data": {
      "image/png": "[encoded data removed]",
      "text/plain": [
       "<matplotlib.figure.Figure at 0x112395e50>"
      ]
     },
     "metadata": {},
     "output_type": "display_data"
    }
   ],
   "source": [
    "plt.figure(figsize = (7,7))\n",
    "plt.plot(period_times[:,0],period_times[:,3])\n",
    "plt.xlabel(\"Num. documents\")\n",
    "plt.ylabel(\"Time (sec.)\")\n",
    "plt.title(\"DTM Runtime vs Number of documents\")\n",
    "plt.show()\n",
    "# looks exponential...\n",
    "# (total number of documents was increased with each new time period)\n"
   ]
  },
  {
   "cell_type": "code",
   "execution_count": 47,
   "metadata": {
    "collapsed": true
   },
   "outputs": [],
   "source": []
  },
  {
   "cell_type": "code",
   "execution_count": null,
   "metadata": {
    "collapsed": true
   },
   "outputs": [],
   "source": []
  }
 ],
 "metadata": {
  "kernelspec": {
   "display_name": "Python 2",
   "language": "python",
   "name": "python2"
  },
  "language_info": {
   "codemirror_mode": {
    "name": "ipython",
    "version": 2
   },
   "file_extension": ".py",
   "mimetype": "text/x-python",
   "name": "python",
   "nbconvert_exporter": "python",
   "pygments_lexer": "ipython2",
   "version": "2.7.11"
  }
 },
 "nbformat": 4,
 "nbformat_minor": 0
}
