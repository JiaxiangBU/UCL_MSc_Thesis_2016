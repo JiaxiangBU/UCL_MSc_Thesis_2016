{
 "cells": [
  {
   "cell_type": "markdown",
   "metadata": {},
   "source": [
    "Tutorial taken from http://sujitpal.blogspot.co.uk/2014/08/topic-modeling-with-gensim-over-past.html\n",
    "\n",
    "Modified for simpler text file based data set.\n",
    "\n",
    "Requires downloading the nltk stop words set, only needs to be done once via python.\n",
    "\n",
    "*import nltk*\n",
    "\n",
    "*nltk.download(\"stopwords\")*\n",
    "\n",
    "Also requires wordcloud library for word cloud visualizations\n",
    "\n",
    "*pip install wordcloud*"
   ]
  },
  {
   "cell_type": "code",
   "execution_count": 19,
   "metadata": {
    "collapsed": false
   },
   "outputs": [],
   "source": [
    "import logging\n",
    "import os\n",
    "import nltk\n",
    "import gensim\n",
    "from gensim.corpora.dictionary import Dictionary\n",
    "from gensim import corpora\n",
    "import os\n",
    "import numpy as np\n",
    "import matplotlib.pyplot as plt\n",
    "from sklearn.cluster import KMeans\n",
    "import os\n",
    "import wordcloud\n",
    "\n",
    "%matplotlib inline"
   ]
  },
  {
   "cell_type": "code",
   "execution_count": 2,
   "metadata": {
    "collapsed": true
   },
   "outputs": [],
   "source": [
    "logging.basicConfig(format='%(asctime)s : %(levelname)s : %(message)s', level=logging.INFO)"
   ]
  },
  {
   "cell_type": "markdown",
   "metadata": {},
   "source": [
    "## Data and Pre-Processing"
   ]
  },
  {
   "cell_type": "code",
   "execution_count": 3,
   "metadata": {
    "collapsed": false
   },
   "outputs": [],
   "source": [
    "'''\n",
    "def iter_docs(topdir, stoplist):\n",
    "    for fn in os.listdir(topdir):\n",
    "        fin = open(os.path.join(topdir, fn), 'rb')\n",
    "        text = fin.read()\n",
    "        fin.close()\n",
    "        yield (x for x in \n",
    "            gensim.utils.tokenize(text, lowercase=True, deacc=True, \n",
    "                                  errors=\"ignore\")\n",
    "            if x not in stoplist)\n",
    "'''\n",
    "\n",
    "class MyCorpus(object):\n",
    "    def __iter__(self):\n",
    "        for line in open('../Data/tutorial_corpus.txt'):\n",
    "            # assume there's one document per line, tokens separated by whitespace\n",
    "            yield self.dictionary.doc2bow(line.lower().split())\n",
    "            \n",
    "    def make_dictionary(self, stoplist=False, minfreq = 1):\n",
    "        # create dictionary\n",
    "        self.dictionary = corpora.Dictionary(line.lower().split() for line in open('../Data/tutorial_corpus.txt'))\n",
    "\n",
    "        if stoplist != False:\n",
    "            # ids to remove stop words\n",
    "            stop_ids = [self.dictionary.token2id[stopword] for stopword in stoplist\n",
    "                        if stopword in self.dictionary.token2id]\n",
    "        else:\n",
    "            stop_ids = []\n",
    "            \n",
    "        # ids to remove words that appear 'minfreq' or fewer times.\n",
    "        once_ids = [tokenid for tokenid, docfreq in self.dictionary.dfs.iteritems() if docfreq <= minfreq]\n",
    "        \n",
    "        # remove stop words and words that appear only once\n",
    "        self.dictionary.filter_tokens(stop_ids + once_ids) \n",
    "        \n",
    "        # remove gaps in id sequence after words that were removed\n",
    "        self.dictionary.compactify() \n",
    "        \n",
    "    '''\n",
    "    def __init__(self, topdir, stoplist):\n",
    "        self.topdir = topdir\n",
    "        self.stoplist = stoplist\n",
    "        self.dictionary = gensim.corpora.Dictionary(iter_docs(topdir, stoplist))\n",
    "        \n",
    "    def __iter__(self):\n",
    "        for tokens in iter_docs(self.topdir, self.stoplist):\n",
    "            yield self.dictionary.doc2bow(tokens)\n",
    "    '''"
   ]
  },
  {
   "cell_type": "code",
   "execution_count": 4,
   "metadata": {
    "collapsed": false
   },
   "outputs": [],
   "source": [
    "# paths to relevant folders\n",
    "#TEXTS_DIR = \"/path/to/texts/dir\"\n",
    "MODELS_DIR = \"saved_models/\"\n",
    "\n",
    "# stop list from nltk\n",
    "stoplist = set(nltk.corpus.stopwords.words(\"english\"))\n",
    "\n",
    "# instantiate corpus object\n",
    "#corpus = MyCorpus(TEXTS_DIR, stoplist)\n",
    "corpus = MyCorpus() # memory friendly corpus!"
   ]
  },
  {
   "cell_type": "code",
   "execution_count": 5,
   "metadata": {
    "collapsed": false
   },
   "outputs": [],
   "source": [
    "# create dictionary, remove stopwords and words only occurring once\n",
    "corpus.make_dictionary(stoplist=stoplist,minfreq=1) \n",
    "\n",
    "# save the dictionary\n",
    "corpus.dictionary.save(MODELS_DIR + \"mtsamples.dict\")\n",
    "\n",
    "# save the corpus\n",
    "gensim.corpora.MmCorpus.serialize(MODELS_DIR + \"mtsamples.mm\", corpus)"
   ]
  },
  {
   "cell_type": "markdown",
   "metadata": {},
   "source": [
    "## 2D Feature Projection"
   ]
  },
  {
   "cell_type": "code",
   "execution_count": 6,
   "metadata": {
    "collapsed": true
   },
   "outputs": [],
   "source": [
    "MODELS_DIR = \"saved_models/\"\n",
    "\n",
    "# load the dictionary\n",
    "dictionary = gensim.corpora.Dictionary.load(os.path.join(MODELS_DIR, \n",
    "                                            \"mtsamples.dict\"))\n",
    "\n",
    "# load the corpus\n",
    "corpus = gensim.corpora.MmCorpus(os.path.join(MODELS_DIR, \"mtsamples.mm\"))\n",
    "\n",
    "\n",
    "tfidf = gensim.models.TfidfModel(corpus, normalize=True)\n",
    "corpus_tfidf = tfidf[corpus]\n",
    "\n",
    "# project to 2 dimensions for visualization\n",
    "lsi = gensim.models.LsiModel(corpus_tfidf, id2word=dictionary, num_topics=2)\n",
    "\n",
    "# write out coordinates to file\n",
    "fcoords = open(os.path.join(MODELS_DIR, \"coords.csv\"), 'wb')\n",
    "for vector in lsi[corpus]:\n",
    "    if len(vector) != 2:\n",
    "        continue\n",
    "    fcoords.write(\"%6.4f\\t%6.4f\\n\" % (vector[0][1], vector[1][1]))\n",
    "fcoords.close()"
   ]
  },
  {
   "cell_type": "markdown",
   "metadata": {},
   "source": [
    "## Visualizing"
   ]
  },
  {
   "cell_type": "code",
   "execution_count": 7,
   "metadata": {
    "collapsed": false
   },
   "outputs": [
    {
     "data": {
      "image/png": "[encoded data removed]",
      "text/plain": [
       "<matplotlib.figure.Figure at 0x103846e50>"
      ]
     },
     "metadata": {},
     "output_type": "display_data"
    }
   ],
   "source": [
    "MAX_K = 5\n",
    "\n",
    "X = np.loadtxt(os.path.join(MODELS_DIR, \"coords.csv\"), delimiter=\"\\t\")\n",
    "ks = range(1, MAX_K + 1)\n",
    "\n",
    "inertias = np.zeros(MAX_K)\n",
    "diff = np.zeros(MAX_K)\n",
    "diff2 = np.zeros(MAX_K)\n",
    "diff3 = np.zeros(MAX_K)\n",
    "for k in ks:\n",
    "    kmeans = KMeans(k).fit(X)\n",
    "    inertias[k - 1] = kmeans.inertia_\n",
    "    # first difference    \n",
    "    if k > 1:\n",
    "        diff[k - 1] = inertias[k - 1] - inertias[k - 2]\n",
    "    # second difference\n",
    "    if k > 2:\n",
    "        diff2[k - 1] = diff[k - 1] - diff[k - 2]\n",
    "    # third difference\n",
    "    if k > 3:\n",
    "        diff3[k - 1] = diff2[k - 1] - diff2[k - 2]\n",
    "\n",
    "elbow = np.argmin(diff3[3:]) + 3\n",
    "\n",
    "plt.plot(ks, inertias, \"b*-\")\n",
    "plt.plot(ks[elbow], inertias[elbow], marker='o', markersize=12,\n",
    "         markeredgewidth=2, markeredgecolor='r', markerfacecolor=None)\n",
    "plt.ylabel(\"Inertia\")\n",
    "plt.xlabel(\"K\")\n",
    "plt.show()"
   ]
  },
  {
   "cell_type": "code",
   "execution_count": 8,
   "metadata": {
    "collapsed": false
   },
   "outputs": [
    {
     "data": {
      "image/png": "[encoded data removed]",
      "text/plain": [
       "<matplotlib.figure.Figure at 0x10dfabb50>"
      ]
     },
     "metadata": {},
     "output_type": "display_data"
    }
   ],
   "source": [
    "# Source: viz_topics_scatter.py\n",
    "import os\n",
    "import numpy as np\n",
    "import matplotlib.pyplot as plt\n",
    "from sklearn.cluster import KMeans\n",
    "\n",
    "MODELS_DIR = \"saved_models/\"\n",
    "NUM_TOPICS = 4\n",
    "\n",
    "X = np.loadtxt(os.path.join(MODELS_DIR, \"coords.csv\"), delimiter=\"\\t\")\n",
    "kmeans = KMeans(NUM_TOPICS).fit(X)\n",
    "y = kmeans.labels_\n",
    "\n",
    "colors = [\"b\", \"g\", \"r\", \"m\", \"c\"]\n",
    "for i in range(X.shape[0]):\n",
    "    plt.scatter(X[i][0], X[i][1], c=colors[y[i]], s=10)    \n",
    "plt.show()"
   ]
  },
  {
   "cell_type": "code",
   "execution_count": 17,
   "metadata": {
    "collapsed": false
   },
   "outputs": [
    {
     "name": "stderr",
     "output_type": "stream",
     "text": [
      "WARNING:gensim.models.ldamodel:too few updates, training might not converge; consider increasing the number of passes or iterations to improve accuracy\n"
     ]
    }
   ],
   "source": [
    "NUM_TOPICS = 4\n",
    "\n",
    "dictionary = gensim.corpora.Dictionary.load(os.path.join(MODELS_DIR, \n",
    "                                            \"mtsamples.dict\"))\n",
    "\n",
    "corpus = gensim.corpora.MmCorpus(os.path.join(MODELS_DIR, \"mtsamples.mm\"))\n",
    "\n",
    "# Project to LDA space\n",
    "lda = gensim.models.LdaModel(corpus, id2word=dictionary, num_topics=NUM_TOPICS)\n",
    "lda.show_topics(NUM_TOPICS)\n",
    "f = open(MODELS_DIR+\"final_topics.txt\", 'w')\n",
    "print >> f, lda.print_topics(NUM_TOPICS)\n",
    "f.close()"
   ]
  },
  {
   "cell_type": "code",
   "execution_count": 18,
   "metadata": {
    "collapsed": false
   },
   "outputs": [
    {
     "ename": "ValueError",
     "evalue": "substring not found",
     "output_type": "error",
     "traceback": [
      "\u001b[0;31m---------------------------------------------------------------------------\u001b[0m",
      "\u001b[0;31mValueError\u001b[0m                                Traceback (most recent call last)",
      "\u001b[0;32m<ipython-input-18-8e678adc0a54>\u001b[0m in \u001b[0;36m<module>\u001b[0;34m()\u001b[0m\n\u001b[1;32m      5\u001b[0m \u001b[0mcurr_topic\u001b[0m \u001b[0;34m=\u001b[0m \u001b[0;36m0\u001b[0m\u001b[0;34m\u001b[0m\u001b[0m\n\u001b[1;32m      6\u001b[0m \u001b[0;32mfor\u001b[0m \u001b[0mline\u001b[0m \u001b[0;32min\u001b[0m \u001b[0mfinal_topics\u001b[0m\u001b[0;34m:\u001b[0m\u001b[0;34m\u001b[0m\u001b[0m\n\u001b[0;32m----> 7\u001b[0;31m     \u001b[0mline\u001b[0m \u001b[0;34m=\u001b[0m \u001b[0mline\u001b[0m\u001b[0;34m.\u001b[0m\u001b[0mstrip\u001b[0m\u001b[0;34m(\u001b[0m\u001b[0;34m)\u001b[0m\u001b[0;34m[\u001b[0m\u001b[0mline\u001b[0m\u001b[0;34m.\u001b[0m\u001b[0mrindex\u001b[0m\u001b[0;34m(\u001b[0m\u001b[0;34m\":\"\u001b[0m\u001b[0;34m)\u001b[0m \u001b[0;34m+\u001b[0m \u001b[0;36m2\u001b[0m\u001b[0;34m:\u001b[0m\u001b[0;34m]\u001b[0m\u001b[0;34m\u001b[0m\u001b[0m\n\u001b[0m\u001b[1;32m      8\u001b[0m     \u001b[0mscores\u001b[0m \u001b[0;34m=\u001b[0m \u001b[0;34m[\u001b[0m\u001b[0mfloat\u001b[0m\u001b[0;34m(\u001b[0m\u001b[0mx\u001b[0m\u001b[0;34m.\u001b[0m\u001b[0msplit\u001b[0m\u001b[0;34m(\u001b[0m\u001b[0;34m\"*\"\u001b[0m\u001b[0;34m)\u001b[0m\u001b[0;34m[\u001b[0m\u001b[0;36m0\u001b[0m\u001b[0;34m]\u001b[0m\u001b[0;34m)\u001b[0m \u001b[0;32mfor\u001b[0m \u001b[0mx\u001b[0m \u001b[0;32min\u001b[0m \u001b[0mline\u001b[0m\u001b[0;34m.\u001b[0m\u001b[0msplit\u001b[0m\u001b[0;34m(\u001b[0m\u001b[0;34m\" + \"\u001b[0m\u001b[0;34m)\u001b[0m\u001b[0;34m]\u001b[0m\u001b[0;34m\u001b[0m\u001b[0m\n\u001b[1;32m      9\u001b[0m     \u001b[0mwords\u001b[0m \u001b[0;34m=\u001b[0m \u001b[0;34m[\u001b[0m\u001b[0mx\u001b[0m\u001b[0;34m.\u001b[0m\u001b[0msplit\u001b[0m\u001b[0;34m(\u001b[0m\u001b[0;34m\"*\"\u001b[0m\u001b[0;34m)\u001b[0m\u001b[0;34m[\u001b[0m\u001b[0;36m1\u001b[0m\u001b[0;34m]\u001b[0m \u001b[0;32mfor\u001b[0m \u001b[0mx\u001b[0m \u001b[0;32min\u001b[0m \u001b[0mline\u001b[0m\u001b[0;34m.\u001b[0m\u001b[0msplit\u001b[0m\u001b[0;34m(\u001b[0m\u001b[0;34m\" + \"\u001b[0m\u001b[0;34m)\u001b[0m\u001b[0;34m]\u001b[0m\u001b[0;34m\u001b[0m\u001b[0m\n",
      "\u001b[0;31mValueError\u001b[0m: substring not found"
     ]
    }
   ],
   "source": [
    "final_topics = open(os.path.join(MODELS_DIR, \"final_topics.txt\"), 'rb')\n",
    "curr_topic = 0\n",
    "for line in final_topics:\n",
    "    line = line.strip()[line.rindex(\":\") + 2:]\n",
    "    scores = [float(x.split(\"*\")[0]) for x in line.split(\" + \")]\n",
    "    words = [x.split(\"*\")[1] for x in line.split(\" + \")]\n",
    "    freqs = []\n",
    "    for word, score in zip(words, scores):\n",
    "        freqs.append((word, score))\n",
    "    elements = wordcloud.fit_words(freqs, width=120, height=120)\n",
    "    wordcloud.draw(elements, \"gs_topic_%d.png\" % (curr_topic),\n",
    "                   width=120, height=120)\n",
    "    curr_topic += 1\n",
    "final_topics.close()"
   ]
  },
  {
   "cell_type": "code",
   "execution_count": null,
   "metadata": {
    "collapsed": true
   },
   "outputs": [],
   "source": []
  }
 ],
 "metadata": {
  "kernelspec": {
   "display_name": "Python 2",
   "language": "python",
   "name": "python2"
  },
  "language_info": {
   "codemirror_mode": {
    "name": "ipython",
    "version": 2
   },
   "file_extension": ".py",
   "mimetype": "text/x-python",
   "name": "python",
   "nbconvert_exporter": "python",
   "pygments_lexer": "ipython2",
   "version": "2.7.11"
  }
 },
 "nbformat": 4,
 "nbformat_minor": 0
}
