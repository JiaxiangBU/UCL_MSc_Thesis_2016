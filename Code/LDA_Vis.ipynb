{
 "cells": [
  {
   "cell_type": "code",
   "execution_count": 1,
   "metadata": {
    "collapsed": false
   },
   "outputs": [
    {
     "name": "stderr",
     "output_type": "stream",
     "text": [
      "/Users/christophermartin/anaconda/lib/python2.7/site-packages/numpy/lib/utils.py:99: DeprecationWarning: `scipy.sparse.sparsetools` is deprecated!\n",
      "scipy.sparse.sparsetools is a private module for scipy.sparse, and should not be used.\n",
      "  warnings.warn(depdoc, DeprecationWarning)\n"
     ]
    }
   ],
   "source": [
    "import pyLDAvis.gensim\n",
    "import pickle\n",
    "import gensim\n",
    "import os\n",
    "import pylab as plt\n",
    "import numpy as np\n",
    "from wordcloud import WordCloud\n"
   ]
  },
  {
   "cell_type": "code",
   "execution_count": 2,
   "metadata": {
    "collapsed": true
   },
   "outputs": [],
   "source": [
    "_MODELS_DIR = \"saved_models/\"\n",
    "key=\"Y02E_10_20\"\n",
    "model_name=\"DIM_model\"\n",
    "dict_file = \"{}.dict\".format(key)\n",
    "corpus_file = \"{}.mm\".format(key)"
   ]
  },
  {
   "cell_type": "code",
   "execution_count": 7,
   "metadata": {
    "collapsed": false
   },
   "outputs": [],
   "source": [
    "# get corpus\n",
    "corpus = gensim.corpora.MmCorpus(os.path.join(_MODELS_DIR, corpus_file))\n",
    "\n",
    "# get dictionary\n",
    "dictionary = gensim.corpora.Dictionary.load(os.path.join(_MODELS_DIR, dict_file))\n",
    "\n",
    "# get lda model\n",
    "filehandler = open(_MODELS_DIR + model_name + \".obj\",'r')\n",
    "DIM = pickle.load(filehandler)\n",
    "filehandler.close()"
   ]
  },
  {
   "cell_type": "code",
   "execution_count": 4,
   "metadata": {
    "collapsed": true
   },
   "outputs": [],
   "source": [
    "pyLDAvis.enable_notebook()"
   ]
  },
  {
   "cell_type": "code",
   "execution_count": 5,
   "metadata": {
    "collapsed": false
   },
   "outputs": [],
   "source": [
    "#pyLDAvis.gensim.prepare(DIM, corpus, dictionary)"
   ]
  },
  {
   "cell_type": "code",
   "execution_count": null,
   "metadata": {
    "collapsed": true
   },
   "outputs": [],
   "source": []
  },
  {
   "cell_type": "code",
   "execution_count": 10,
   "metadata": {
    "collapsed": false
   },
   "outputs": [],
   "source": [
    "final_topics = str(DIM.print_topic(6, 10, topn=200))"
   ]
  },
  {
   "cell_type": "code",
   "execution_count": 11,
   "metadata": {
    "collapsed": false
   },
   "outputs": [],
   "source": [
    "from PIL import Image\n",
    "#final_topics = DIM.show_topics(num_topics=7, num_words=2000).readlines()\n",
    "#lines = final_topics.strip(\"[()\").strip(\"]\\n\").split(\"(\")\n",
    "\n",
    "line = final_topics\n",
    "\n",
    "scores = [float(x.split(\"*\")[0]) for x in line.split(\" + \")]\n",
    "words = [x.split(\"*\")[1].strip(\"'), \") for x in line.split(\" + \")]\n",
    "\n",
    "freqs = []\n",
    "for word, score in zip(words, scores):\n",
    "    freqs.append((word, score))\n",
    "\n",
    "mask = np.array(Image.open(\"wind_turbine.jpg\"))\n",
    "wc = WordCloud(background_color=\"white\", max_words=2000, mask=mask)\n",
    "\n",
    "elements = wc.fit_words(freqs)\n",
    "\n",
    "default_colors = wc.to_array()\n",
    "\n",
    "plt.imshow(wc)\n",
    "plt.axis(\"off\")\n",
    "plt.figure()\n",
    "plt.imshow(mask, cmap=plt.cm.gray)\n",
    "plt.axis(\"off\")\n",
    "plt.show()\n"
   ]
  },
  {
   "cell_type": "code",
   "execution_count": null,
   "metadata": {
    "collapsed": false
   },
   "outputs": [],
   "source": []
  },
  {
   "cell_type": "code",
   "execution_count": 18,
   "metadata": {
    "collapsed": false
   },
   "outputs": [],
   "source": [
    "line = str(DIM.print_topic(2, 10, topn=200))\n",
    "\n",
    "scores = [float(x.split(\"*\")[0]) for x in line.split(\" + \")]\n",
    "words = [x.split(\"*\")[1].strip(\"'), \") for x in line.split(\" + \")]\n",
    "\n",
    "freqs = []\n",
    "for word, score in zip(words, scores):\n",
    "    freqs.append((word, score))\n",
    "\n",
    "wc = WordCloud(max_words=100)\n",
    "elements = wc.fit_words(freqs)\n",
    "\n",
    "default_colors = wc.to_array()\n",
    "\n",
    "plt.figure()\n",
    "plt.title(\"Topic 6\")\n",
    "plt.imshow(default_colors)\n",
    "plt.axis(\"off\")\n",
    "plt.show()"
   ]
  },
  {
   "cell_type": "code",
   "execution_count": null,
   "metadata": {
    "collapsed": true
   },
   "outputs": [],
   "source": []
  }
 ],
 "metadata": {
  "kernelspec": {
   "display_name": "Python 2",
   "language": "python",
   "name": "python2"
  },
  "language_info": {
   "codemirror_mode": {
    "name": "ipython",
    "version": 2
   },
   "file_extension": ".py",
   "mimetype": "text/x-python",
   "name": "python",
   "nbconvert_exporter": "python",
   "pygments_lexer": "ipython2",
   "version": "2.7.11"
  }
 },
 "nbformat": 4,
 "nbformat_minor": 0
}
